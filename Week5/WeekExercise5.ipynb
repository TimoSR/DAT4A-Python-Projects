{
 "cells": [
  {
   "cell_type": "markdown",
   "metadata": {
    "collapsed": true,
    "pycharm": {
     "name": "#%% md\n"
    }
   },
   "source": [
    "# Handin exercise for week 5: Pandas"
   ]
  },
  {
   "cell_type": "markdown",
   "source": [
    "### Ex1 Use data from Danmarks Statistik - Databanken\n",
    "\n",
    "What is the change in pct of divorced danes from 2008 to 2020?"
   ],
   "metadata": {
    "collapsed": false
   }
  },
  {
   "cell_type": "code",
   "execution_count": 7,
   "outputs": [
    {
     "name": "stdout",
     "text": [
      "The change of divorced danes from 2008 to 2020 in pct : 26.016531067484888\n"
     ],
     "output_type": "stream"
    }
   ],
   "source": [
    "import pandas \n",
    "import numpy\n",
    "import matplotlib.pyplot as plot\n",
    "\n",
    "url = 'https://api.statbank.dk/v1/data/FOLK1A/CSV?delimiter=Semicolon&CIVILSTAND=F&Tid=2008K4%2C2020K1'\n",
    "pandas_CSV = pandas.read_csv(url, delimiter=';')\n",
    "pandas_CSV['TID'] = pandas_CSV['TID'].map(lambda x: int(x[:-2]))\n",
    "\n",
    "print('The change of divorced danes from 2008 to 2020 in pct : {}'\n",
    "      .format(((pandas_CSV['INDHOLD']-pandas_CSV['INDHOLD'][0])/pandas_CSV['INDHOLD'][0])[1] * 100))\n"
   ],
   "metadata": {
    "collapsed": false,
    "pycharm": {
     "name": "#%%\n",
     "is_executing": false
    }
   }
  },
  {
   "cell_type": "code",
   "execution_count": 8,
   "outputs": [
    {
     "name": "stdout",
     "text": [
      "The highest percentage of \"Never Married\" in the biggest 5 cities is: København with 65.23579087199924%\n"
     ],
     "output_type": "stream"
    }
   ],
   "source": [
    "url = 'https://api.statbank.dk/v1/data/FOLK1A/CSV?delimiter=Semicolon&CIVILSTAND=U%2CTOT&Tid=2020K1&OMR%C3%85DE=101%2C147%2C155%2C185%2C165%2C151%2C153%2C157%2C159%2C161%2C163%2C167%2C169%2C183%2C173%2C175%2C187%2C201%2C240%2C210%2C250%2C270%2C260%2C217%2C219%2C223%2C230%2C400%2C411%2C253%2C259%2C350%2C265%2C269%2C320%2C376%2C316%2C326%2C360%2C370%2C306%2C329%2C330%2C340%2C336%2C390%2C420%2C430%2C440%2C482%2C410%2C480%2C450%2C461%2C479%2C492%2C530%2C561%2C563%2C607%2C510%2C621%2C540%2C550%2C573%2C575%2C630%2C580%2C710%2C766%2C615%2C707%2C727%2C730%2C741%2C740%2C746%2C706%2C751%2C657%2C661%2C756%2C665%2C760%2C779%2C671%2C791%2C810%2C813%2C860%2C849%2C825%2C846%2C773%2C840%2C787%2C820%2C851'\n",
    "pandas_CSV = pandas.read_csv(url, delimiter=';')\n",
    "pandas_CSV['TID'] = pandas_CSV['TID'].map(lambda x: int(x[:-2]))\n",
    "pandas_CSV = pandas_CSV.sort_values(by=['CIVILSTAND', 'INDHOLD'], ascending=False)\n",
    "data = numpy.array(pandas_CSV)\n",
    "\n",
    "biggest_cities = data[(data[:,0] == 'I alt')][0:5]\n",
    "not_married = np.array(list(filter(lambda x: x[2] in biggest_cities[:,2], data[(data[:,0] == 'Ugift')])))\n",
    "pct_of_not_married = {x[2]: (x[3]/biggest_cities[index][3]) * 100 for index,x in enumerate(not_married)}\n",
    "pct_of_not_married = {k: v for k, v in sorted(pct_of_not_married.items(), key=lambda item: item[1], reverse=True)}\n",
    "\n",
    "print('The highest percentage of \"Never Married\" in the biggest 5 cities is: {} with {}%'.format(list(pct_of_not_married.keys())[0], list(pct_of_not_married.values())[0]))\n"
   ],
   "metadata": {
    "collapsed": false,
    "pycharm": {
     "name": "#%%\n",
     "is_executing": false
    }
   }
  }
 ],
 "metadata": {
  "kernelspec": {
   "display_name": "Python 3",
   "language": "python",
   "name": "python3"
  },
  "language_info": {
   "codemirror_mode": {
    "name": "ipython",
    "version": 2
   },
   "file_extension": ".py",
   "mimetype": "text/x-python",
   "name": "python",
   "nbconvert_exporter": "python",
   "pygments_lexer": "ipython2",
   "version": "2.7.6"
  },
  "pycharm": {
   "stem_cell": {
    "cell_type": "raw",
    "source": [],
    "metadata": {
     "collapsed": false
    }
   }
  }
 },
 "nbformat": 4,
 "nbformat_minor": 0
}