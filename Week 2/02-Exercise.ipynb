{
 "cells": [
  {
   "cell_type": "markdown",
   "metadata": {
    "collapsed": true,
    "pycharm": {
     "name": "#%% md\n"
    }
   },
   "source": [
    "# Exercise Week 2"
   ]
  },
  {
   "cell_type": "markdown",
   "source": [
    "### Exercise 1 \n",
    "\n",
    "Create a python file with 3 functions:\n",
    "def print_file_content(file) that can print content of a csv file to the console\n",
    "def write_list_to_file(output_file, lst) that can take a list of tuple and write each element to a new line in file\n",
    "rewrite the function so that it gets an arbitrary number of strings instead of a list\n",
    "def read_csv(input_file) that take a csv file and read each row into a list\n",
    "Add a functionality so that the file can be called from cli with 2 arguments\n",
    "path to csv file\n",
    "an argument --file file_name that if given will write the content to file_name or otherwise will print it to the console.\n",
    "Add a --help cli argument to describe how the module is used"
   ],
   "metadata": {
    "collapsed": false,
    "pycharm": {
     "name": "#%% md\n"
    }
   }
  },
  {
   "cell_type": "markdown",
   "source": [
    "1(A) def print_file_content(file) that can print content of a csv file to the console\n"
   ],
   "metadata": {
    "collapsed": false
   }
  },
  {
   "cell_type": "code",
   "execution_count": 11,
   "outputs": [
    {
     "name": "stdout",
     "text": [
      "['street', 'city', 'zip', 'state', 'beds', 'baths', 'sq__ft', 'type', 'sale_date', 'price', 'latitude', 'longitude']\n",
      "['3526 HIGH ST', 'SACRAMENTO', '95838', 'CA', '2', '1', '836', 'Residential', 'Wed May 21 00:00:00 EDT 2008', '59222', '38.631913', '-121.434879']\n",
      "['51 OMAHA CT', 'SACRAMENTO', '95823', 'CA', '3', '1', '1167', 'Residential', 'Wed May 21 00:00:00 EDT 2008', '68212', '38.478902', '-121.431028']\n",
      "['2796 BRANCH ST', 'SACRAMENTO', '95815', 'CA', '2', '1', '796', 'Residential', 'Wed May 21 00:00:00 EDT 2008', '68880', '38.618305', '-121.443839']\n",
      "['2805 JANETTE WAY', 'SACRAMENTO', '95815', 'CA', '2', '1', '852', 'Residential', 'Wed May 21 00:00:00 EDT 2008', '69307', '38.616835', '-121.439146']\n",
      "['6001 MCMAHON DR', 'SACRAMENTO', '95824', 'CA', '2', '1', '797', 'Residential', 'Wed May 21 00:00:00 EDT 2008', '81900', '38.51947', '-121.435768']\n",
      "['5828 PEPPERMILL CT', 'SACRAMENTO', '95841', 'CA', '3', '1', '1122', 'Condo', 'Wed May 21 00:00:00 EDT 2008', '89921', '38.662595', '-121.327813']\n",
      "['6048 OGDEN NASH WAY', 'SACRAMENTO', '95842', 'CA', '3', '2', '1104', 'Residential', 'Wed May 21 00:00:00 EDT 2008', '90895', '38.681659', '-121.351705']\n",
      "['2561 19TH AVE', 'SACRAMENTO', '95820', 'CA', '3', '1', '1177', 'Residential', 'Wed May 21 00:00:00 EDT 2008', '91002', '38.535092', '-121.481367']\n",
      "['11150 TRINITY RIVER DR Unit 114', 'RANCHO CORDOVA', '95670', 'CA', '2', '2', '941', 'Condo', 'Wed May 21 00:00:00 EDT 2008', '94905', '38.621188', '-121.270555']\n",
      "['7325 10TH ST', 'RIO LINDA', '95673', 'CA', '3', '2', '1146', 'Residential', 'Wed May 21 00:00:00 EDT 2008', '98937', '38.700909', '-121.442979']\n",
      "['645 MORRISON AVE', 'SACRAMENTO', '95838', 'CA', '3', '2', '909', 'Residential', 'Wed May 21 00:00:00 EDT 2008', '100309', '38.637663', '-121.45152']\n",
      "['4085 FAWN CIR', 'SACRAMENTO', '95823', 'CA', '3', '2', '1289', 'Residential', 'Wed May 21 00:00:00 EDT 2008', '106250', '38.470746', '-121.458918']\n",
      "['2930 LA ROSA RD', 'SACRAMENTO', '95815', 'CA', '1', '1', '871', 'Residential', 'Wed May 21 00:00:00 EDT 2008', '106852', '38.618698', '-121.435833']\n",
      "['2113 KIRK WAY', 'SACRAMENTO', '95822', 'CA', '3', '1', '1020', 'Residential', 'Wed May 21 00:00:00 EDT 2008', '107502', '38.482215', '-121.492603']\n",
      "['4533 LOCH HAVEN WAY', 'SACRAMENTO', '95842', 'CA', '2', '2', '1022', 'Residential', 'Wed May 21 00:00:00 EDT 2008', '108750', '38.672914', '-121.35934']\n",
      "['7340 HAMDEN PL', 'SACRAMENTO', '95842', 'CA', '2', '2', '1134', 'Condo', 'Wed May 21 00:00:00 EDT 2008', '110700', '38.700051', '-121.351278']\n",
      "['6715 6TH ST', 'RIO LINDA', '95673', 'CA', '2', '1', '844', 'Residential', 'Wed May 21 00:00:00 EDT 2008', '113263', '38.689591', '-121.452239']\n",
      "['6236 LONGFORD DR Unit 1', 'CITRUS HEIGHTS', '95621', 'CA', '2', '1', '795', 'Condo', 'Wed May 21 00:00:00 EDT 2008', '116250', '38.679776', '-121.314089']\n",
      "['250 PERALTA AVE', 'SACRAMENTO', '95833', 'CA', '2', '1', '588', 'Residential', 'Wed May 21 00:00:00 EDT 2008', '120000', '38.612099', '-121.469095']\n"
     ],
     "output_type": "stream"
    }
   ],
   "source": [
    "# Exercise 1(A)\n",
    "\n",
    "# Downloading CSV file to memory \n",
    "\n",
    "import requests\n",
    "import csv\n",
    "\n",
    "csv_file_url = 'http://samplecsvs.s3.amazonaws.com/Sacramentorealestatetransactions.csv'\n",
    "        \n",
    "def print_file_content(f_name):\n",
    "    \n",
    "    with requests.Session() as s:\n",
    "        download = s.get(f_name)\n",
    "\n",
    "        decoded_content = download.content.decode('utf-8')\n",
    "        \n",
    "        cr = csv.reader(decoded_content.splitlines(), delimiter =',')\n",
    "       \n",
    "        my_list = list(cr)\n",
    "        \n",
    "        for row in my_list[:20]:\n",
    "            print(row)\n",
    "        \n",
    "print_file_content(csv_file_url)"
   ],
   "metadata": {
    "collapsed": false,
    "pycharm": {
     "name": "#%%\n",
     "is_executing": false
    }
   }
  },
  {
   "cell_type": "markdown",
   "source": [
    "1(B) def write_list_to_file(output_file, lst) that can take a list of tuple and write each element to a new line in file"
   ],
   "metadata": {
    "collapsed": false,
    "pycharm": {
     "name": "#%% md\n"
    }
   }
  },
  {
   "cell_type": "code",
   "execution_count": 30,
   "outputs": [
    {
     "data": {
      "text/plain": "['1 Unity\\n', '2 Advanced Programming\\n', '3 Python']"
     },
     "metadata": {},
     "output_type": "execute_result",
     "execution_count": 30
    }
   ],
   "source": [
    "# Exercise 1(B)\n",
    "\n",
    "l1 = [(1, 'Unity'),(2, 'Advanced Programming'),(3,'Python')]\n",
    "\n",
    "output_file1 = 'favorite_class.txt'\n",
    "\n",
    "def list_to_file(output_file, lst):\n",
    "    with open(output_file, 'w') as fp:\n",
    "        fp.write('\\n'.join('{} {}'.format(x[0], x[1]) for x in l1))\n",
    "\n",
    "list_to_file(output_file1, l1)\n",
    "\n",
    "open('favorite_class.txt').readlines()"
   ],
   "metadata": {
    "collapsed": false,
    "pycharm": {
     "name": "#%%\n",
     "is_executing": false
    }
   }
  },
  {
   "cell_type": "code",
   "execution_count": 31,
   "outputs": [],
   "source": [
    "# Downloading CSV file to out.csv\n",
    "\n",
    "import csv\n",
    "import requests\n",
    "\n",
    "csv_file_url = 'http://samplecsvs.s3.amazonaws.com/Sacramentorealestatetransactions.csv'\n",
    "\n",
    "response = requests.get(csv_file_url)\n",
    "\n",
    "with open('out.csv', 'w') as f:\n",
    "    writer = csv.writer(f)\n",
    "    for line in response.iter_lines():\n",
    "        writer.writerow(line.decode('utf-8').split(','))"
   ],
   "metadata": {
    "collapsed": false,
    "pycharm": {
     "name": "#%%\n",
     "is_executing": false
    }
   }
  },
  {
   "cell_type": "markdown",
   "source": [
    "1(C) def read_csv(input_file) that take a csv file and read each row into a list\n",
    "      "
   ],
   "metadata": {
    "collapsed": false,
    "pycharm": {
     "name": "#%% md\n"
    }
   }
  },
  {
   "cell_type": "code",
   "execution_count": 40,
   "outputs": [
    {
     "name": "stdout",
     "text": [
      "['street', 'city', 'zip', 'state', 'beds', 'baths', 'sq__ft', 'type', 'sale_date', 'price', 'latitude', 'longitude']\n",
      "[]\n",
      "['3526 HIGH ST', 'SACRAMENTO', '95838', 'CA', '2', '1', '836', 'Residential', 'Wed May 21 00:00:00 EDT 2008', '59222', '38.631913', '-121.434879']\n",
      "[]\n",
      "['51 OMAHA CT', 'SACRAMENTO', '95823', 'CA', '3', '1', '1167', 'Residential', 'Wed May 21 00:00:00 EDT 2008', '68212', '38.478902', '-121.431028']\n",
      "[]\n",
      "['2796 BRANCH ST', 'SACRAMENTO', '95815', 'CA', '2', '1', '796', 'Residential', 'Wed May 21 00:00:00 EDT 2008', '68880', '38.618305', '-121.443839']\n",
      "[]\n",
      "['2805 JANETTE WAY', 'SACRAMENTO', '95815', 'CA', '2', '1', '852', 'Residential', 'Wed May 21 00:00:00 EDT 2008', '69307', '38.616835', '-121.439146']\n",
      "[]\n",
      "['6001 MCMAHON DR', 'SACRAMENTO', '95824', 'CA', '2', '1', '797', 'Residential', 'Wed May 21 00:00:00 EDT 2008', '81900', '38.51947', '-121.435768']\n",
      "[]\n",
      "['5828 PEPPERMILL CT', 'SACRAMENTO', '95841', 'CA', '3', '1', '1122', 'Condo', 'Wed May 21 00:00:00 EDT 2008', '89921', '38.662595', '-121.327813']\n",
      "[]\n",
      "['6048 OGDEN NASH WAY', 'SACRAMENTO', '95842', 'CA', '3', '2', '1104', 'Residential', 'Wed May 21 00:00:00 EDT 2008', '90895', '38.681659', '-121.351705']\n",
      "[]\n",
      "['2561 19TH AVE', 'SACRAMENTO', '95820', 'CA', '3', '1', '1177', 'Residential', 'Wed May 21 00:00:00 EDT 2008', '91002', '38.535092', '-121.481367']\n",
      "[]\n",
      "['11150 TRINITY RIVER DR Unit 114', 'RANCHO CORDOVA', '95670', 'CA', '2', '2', '941', 'Condo', 'Wed May 21 00:00:00 EDT 2008', '94905', '38.621188', '-121.270555']\n",
      "[]\n"
     ],
     "output_type": "stream"
    }
   ],
   "source": [
    "from csv import reader\n",
    " \n",
    "def read_csv(input_file):\n",
    "    # read csv file as a list of lists\n",
    "    with open('out.csv', 'r') as read_obj:\n",
    "        # pass the file object to reader() to get the reader object\n",
    "        csv_reader = reader(read_obj)\n",
    "        # Pass reader object to list() to get a list of lists\n",
    "        list_of_rows = list(csv_reader)\n",
    "        for row in list_of_rows[:20]:\n",
    "            print(row)\n",
    "     \n",
    "read_csv('out.csv')\n"
   ],
   "metadata": {
    "collapsed": false,
    "pycharm": {
     "name": "#%%\n",
     "is_executing": false
    }
   }
  }
 ],
 "metadata": {
  "kernelspec": {
   "name": "pycharm-a86b9381",
   "language": "python",
   "display_name": "PyCharm (Week 2)"
  },
  "language_info": {
   "codemirror_mode": {
    "name": "ipython",
    "version": 2
   },
   "file_extension": ".py",
   "mimetype": "text/x-python",
   "name": "python",
   "nbconvert_exporter": "python",
   "pygments_lexer": "ipython2",
   "version": "2.7.6"
  },
  "pycharm": {
   "stem_cell": {
    "cell_type": "raw",
    "source": [],
    "metadata": {
     "collapsed": false
    }
   }
  }
 },
 "nbformat": 4,
 "nbformat_minor": 0
}