{
 "cells": [
  {
   "cell_type": "markdown",
   "metadata": {
    "collapsed": true,
    "pycharm": {
     "name": "#%% md\n"
    }
   },
   "source": [
    "# Functions"
   ]
  },
  {
   "cell_type": "code",
   "execution_count": 2,
   "outputs": [
    {
     "name": "stdout",
     "text": [
      "Grethe\n",
      "Hans\n"
     ],
     "output_type": "stream"
    }
   ],
   "source": [
    "def returnMulti():\n",
    "    return 'Hans','Grethe'\n",
    "child1,child2 = returnMulti()\n",
    "print(child2)\n",
    "print(child1)"
   ],
   "metadata": {
    "collapsed": false,
    "pycharm": {
     "name": "#%%\n",
     "is_executing": false
    }
   }
  },
  {
   "cell_type": "code",
   "execution_count": 3,
   "outputs": [
    {
     "name": "stdout",
     "text": [
      "2.5\n",
      "2.5\n",
      "1.25\n",
      "1.25\n",
      "1.25\n"
     ],
     "output_type": "stream"
    }
   ],
   "source": [
    "def apply_division(dividend, divisor=2):\n",
    "    result = dividend / divisor\n",
    "    print(result)\n",
    "    \n",
    "apply_division(5)\n",
    "apply_division(dividend=5)\n",
    "\n",
    "apply_division(5, 4)\n",
    "apply_division(dividend=5, divisor=4)\n",
    "apply_division(divisor=4, dividend=5)\n"
   ],
   "metadata": {
    "collapsed": false,
    "pycharm": {
     "name": "#%%\n",
     "is_executing": false
    }
   }
  }
 ],
 "metadata": {
  "kernelspec": {
   "name": "pycharm-a86b9381",
   "language": "python",
   "display_name": "PyCharm (Week 2)"
  },
  "language_info": {
   "codemirror_mode": {
    "name": "ipython",
    "version": 2
   },
   "file_extension": ".py",
   "mimetype": "text/x-python",
   "name": "python",
   "nbconvert_exporter": "python",
   "pygments_lexer": "ipython2",
   "version": "2.7.6"
  },
  "pycharm": {
   "stem_cell": {
    "cell_type": "raw",
    "source": [],
    "metadata": {
     "collapsed": false
    }
   }
  }
 },
 "nbformat": 4,
 "nbformat_minor": 0
}