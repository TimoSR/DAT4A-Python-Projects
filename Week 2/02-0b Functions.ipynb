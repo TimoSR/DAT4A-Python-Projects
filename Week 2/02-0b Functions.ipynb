{
 "cells": [
  {
   "cell_type": "markdown",
   "metadata": {
    "collapsed": true,
    "pycharm": {
     "name": "#%% md\n"
    }
   },
   "source": [
    "# Functions"
   ]
  },
  {
   "cell_type": "code",
   "execution_count": 2,
   "outputs": [
    {
     "name": "stdout",
     "text": [
      "Grethe\n",
      "Hans\n"
     ],
     "output_type": "stream"
    }
   ],
   "source": [
    "def returnMulti():\n",
    "    return 'Hans','Grethe'\n",
    "child1,child2 = returnMulti()\n",
    "print(child2)\n",
    "print(child1)"
   ],
   "metadata": {
    "collapsed": false,
    "pycharm": {
     "name": "#%%\n",
     "is_executing": false
    }
   }
  },
  {
   "cell_type": "code",
   "execution_count": 3,
   "outputs": [
    {
     "name": "stdout",
     "text": [
      "2.5\n",
      "2.5\n",
      "1.25\n",
      "1.25\n",
      "1.25\n"
     ],
     "output_type": "stream"
    }
   ],
   "source": [
    "def apply_division(dividend, divisor=2):\n",
    "    result = dividend / divisor\n",
    "    print(result)\n",
    "    \n",
    "apply_division(5)\n",
    "apply_division(dividend=5)\n",
    "\n",
    "apply_division(5, 4)\n",
    "apply_division(dividend=5, divisor=4)\n",
    "apply_division(divisor=4, dividend=5)"
   ],
   "metadata": {
    "collapsed": false,
    "pycharm": {
     "name": "#%%\n",
     "is_executing": false
    }
   }
  },
  {
   "cell_type": "markdown",
   "source": [
    "#### A function can return different data types"
   ],
   "metadata": {
    "collapsed": false
   }
  },
  {
   "cell_type": "code",
   "execution_count": 1,
   "outputs": [
    {
     "data": {
      "text/plain": "'hej'"
     },
     "metadata": {},
     "output_type": "execute_result",
     "execution_count": 1
    }
   ],
   "source": [
    "import random\n",
    "def returnAny():\n",
    "    lst = [3, 'hej', 2.3]\n",
    "    return random.choice(lst)\n",
    "\n",
    "returnAny()\n"
   ],
   "metadata": {
    "collapsed": false,
    "pycharm": {
     "name": "#%%\n",
     "is_executing": false
    }
   }
  },
  {
   "cell_type": "code",
   "source": [
    "def returnMulti():\n",
    "    return 'Hans', 'Grethe'\n",
    "child1, child2 = returnMulti()\n",
    "child2"
   ],
   "metadata": {
    "collapsed": false,
    "pycharm": {
     "name": "#%%\n",
     "is_executing": false
    }
   },
   "execution_count": 2,
   "outputs": [
    {
     "data": {
      "text/plain": "'Grethe'"
     },
     "metadata": {},
     "output_type": "execute_result",
     "execution_count": 2
    }
   ]
  },
  {
   "cell_type": "markdown",
   "source": [
    "#### Some weird string transformation"
   ],
   "metadata": {
    "collapsed": false
   }
  },
  {
   "cell_type": "code",
   "execution_count": 3,
   "outputs": [
    {
     "data": {
      "text/plain": "'Call'"
     },
     "metadata": {},
     "output_type": "execute_result",
     "execution_count": 3
    }
   ],
   "source": [
    "def modify_sentence(name):\n",
    "    \"\"\"Construct a modified first sentence of Moby Dick\n",
    "\n",
    "    :param name: str\n",
    "        Name to insert in the sentence.\n",
    "        \n",
    "    :return: list\n",
    "        The modified first sentence as a list of words.\n",
    "    \"\"\"\n",
    "    \n",
    "    fst_sentence = 'Call me ' + name + '.'\n",
    "    return fst_sentence.split(), 'hoho', 9 \n",
    "    \n",
    "result,string,val = modify_sentence('Ahab')\n",
    "result = modify_sentence('Ahab')\n",
    "result[0][0]"
   ],
   "metadata": {
    "collapsed": false,
    "pycharm": {
     "name": "#%%\n",
     "is_executing": false
    }
   }
  },
  {
   "cell_type": "markdown",
   "source": [
    "#### Passing an Arbitrary (non specified amount) Number of Arguments"
   ],
   "metadata": {
    "collapsed": false
   }
  },
  {
   "cell_type": "code",
   "execution_count": 4,
   "outputs": [
    {
     "name": "stdout",
     "text": [
      "- Timo\n",
      "- Timo\n",
      "- Jose\n",
      "- Kasper\n"
     ],
     "output_type": "stream"
    }
   ],
   "source": [
    "def hire_crew(*sailors):\n",
    "    \"\"\"Print the list of hired crew members.\"\"\"\n",
    "    #print(type(sailors))\n",
    "    for sailor in sailors:\n",
    "        print('- ' + sailor)\n",
    "hire_crew('Timo')\n",
    "hire_crew('Timo', 'Jose', 'Kasper')"
   ],
   "metadata": {
    "collapsed": false,
    "pycharm": {
     "name": "#%%\n",
     "is_executing": false
    }
   }
  },
  {
   "cell_type": "markdown",
   "source": [
    "#### Mixing Positional and Arbitrary Arguments\n",
    "\n",
    "If you want a function to accept several different kinds of arguments, the parameter that accepts an arbitrary number of arguments must be placed last in the function definition. Python matches positional and keyword arguments first and then collects any remaining arguments in the final parameter."
   ],
   "metadata": {
    "collapsed": false,
    "pycharm": {
     "name": "#%% md\n"
    }
   }
  },
  {
   "cell_type": "code",
   "source": [
    "def hire_crew(amount, *sailors):\n",
    "    \"\"\"Checks the list of hire crew members.\"\"\"\n",
    "    members = []\n",
    "    if amount != len(sailors):\n",
    "        return False\n",
    "    for sailor in sailors:\n",
    "        members.append(sailor)\n",
    "    return members\n",
    "\n",
    "hire_crew(1, 'Timo')\n",
    "\n",
    "hire_crew(3, 'Timo', 'Jose', 'Kasper')"
   ],
   "metadata": {
    "collapsed": false,
    "pycharm": {
     "name": "#%% \n",
     "is_executing": false
    }
   },
   "execution_count": 6,
   "outputs": [
    {
     "data": {
      "text/plain": "['Timo', 'Jose', 'Kasper']"
     },
     "metadata": {},
     "output_type": "execute_result",
     "execution_count": 6
    }
   ]
  },
  {
   "cell_type": "code",
   "execution_count": 7,
   "outputs": [
    {
     "name": "stdout",
     "text": [
      "{'first_name': 'Timothy', 'last_name': 'Rasmussen', 'location': 'Søborg', 'field': 'Computer Science'}\n"
     ],
     "output_type": "stream"
    }
   ],
   "source": [
    "def build_profile(first_name, last_name, **user_info):\n",
    "    \"\"\"Build a dictionary containing everything we know about a user.\"\"\"\n",
    "    profile = {}\n",
    "    profile['first_name'] = first_name\n",
    "    profile['last_name'] = last_name\n",
    "    for key, value in user_info.items():\n",
    "        profile[key] = value\n",
    "    return profile\n",
    "\n",
    "user_profile = build_profile('Timothy', 'Rasmussen',\n",
    "                             location = 'Søborg',\n",
    "                             field = 'Computer Science')\n",
    "\n",
    "print(user_profile)"
   ],
   "metadata": {
    "collapsed": false,
    "pycharm": {
     "name": "#%%\n",
     "is_executing": false
    }
   }
  }
 ],
 "metadata": {
  "kernelspec": {
   "name": "pycharm-a86b9381",
   "language": "python",
   "display_name": "PyCharm (Week 2)"
  },
  "language_info": {
   "codemirror_mode": {
    "name": "ipython",
    "version": 2
   },
   "file_extension": ".py",
   "mimetype": "text/x-python",
   "name": "python",
   "nbconvert_exporter": "python",
   "pygments_lexer": "ipython2",
   "version": "2.7.6"
  },
  "pycharm": {
   "stem_cell": {
    "cell_type": "raw",
    "source": [],
    "metadata": {
     "collapsed": false
    }
   }
  }
 },
 "nbformat": 4,
 "nbformat_minor": 0
}