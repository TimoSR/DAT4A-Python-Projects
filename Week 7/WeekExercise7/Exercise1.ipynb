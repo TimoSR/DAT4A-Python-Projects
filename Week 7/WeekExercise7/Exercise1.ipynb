{
 "cells": [
  {
   "cell_type": "markdown",
   "metadata": {
    "collapsed": true,
    "pycharm": {
     "is_executing": false,
     "name": "#%% md\n"
    }
   },
   "source": [
    "# Charming Reaction Assignment "
   ]
  },
  {
   "cell_type": "markdown",
   "source": [
    "Webscrape fra https://www.dba.dk/biler/biler/\n",
    "\n",
    "2. Udskriv alle biler af mærket Ford\"\n",
    "3. Åben de 5 dyreste biler med selenium i decending order og vis dem med et bar chart\""
   ],
   "metadata": {
    "collapsed": false,
    "pycharm": {
     "name": "#%% md\n"
    }
   }
  },
  {
   "cell_type": "code",
   "source": [
    "import bs4\n",
    "from bs4 import BeautifulSoup\n",
    "import wget\n",
    "import requests \n",
    "from tqdm import tqdm\n",
    "import re\n",
    "from selenium import webdriver\n",
    "import matplotlib.pyplot as plot\n",
    "import json\n",
    "from selenium.webdriver.support.ui import WebDriverWait\n"
   ],
   "metadata": {
    "collapsed": false,
    "pycharm": {
     "name": "#%%\n",
     "is_executing": false
    }
   },
   "execution_count": 10,
   "outputs": []
  },
  {
   "cell_type": "code",
   "execution_count": 11,
   "outputs": [],
   "source": [
    "base_url = 'https://www.dba.dk/biler/biler/'\n",
    "\n",
    "browser = webdriver.Firefox()\n",
    "\n",
    "def get_bsoup():\n",
    "\n",
    "    browser.get(base_url)\n",
    "    \n",
    "    browser.implicitly_wait(3)\n",
    "\n",
    "    return BeautifulSoup(browser.page_source, 'html.parser') "
   ],
   "metadata": {
    "collapsed": false,
    "pycharm": {
     "name": "#%%\n",
     "is_executing": false
    }
   }
  },
  {
   "cell_type": "markdown",
   "source": [
    "1. Hvor mange brugte biler er der at vælge i mellem\""
   ],
   "metadata": {
    "collapsed": false,
    "pycharm": {
     "name": "#%% md\n"
    }
   }
  },
  {
   "cell_type": "code",
   "execution_count": 12,
   "outputs": [
    {
     "name": "stdout",
     "text": [
      "Cars for Sale:  (32888)\n"
     ],
     "output_type": "stream"
    }
   ],
   "source": [
    "annoncetype_div = get_bsoup().findAll( \"div\", {\"class\": \"navigator radioNavigator modulePanel\"})\n",
    "small_tags = annoncetype_div[0].findAll(\"small\")\n",
    "amount_cars = small_tags[0].text\n",
    "print('Cars for Sale: ', amount_cars)\n",
    "browser.close()"
   ],
   "metadata": {
    "collapsed": false,
    "pycharm": {
     "name": "#%%\n",
     "is_executing": false
    }
   }
  }
 ],
 "metadata": {
  "kernelspec": {
   "name": "pycharm-7f8b73a1",
   "language": "python",
   "display_name": "PyCharm (Week 7)"
  },
  "language_info": {
   "codemirror_mode": {
    "name": "ipython",
    "version": 2
   },
   "file_extension": ".py",
   "mimetype": "text/x-python",
   "name": "python",
   "nbconvert_exporter": "python",
   "pygments_lexer": "ipython2",
   "version": "2.7.6"
  },
  "pycharm": {
   "stem_cell": {
    "cell_type": "raw",
    "source": [],
    "metadata": {
     "collapsed": false
    }
   }
  }
 },
 "nbformat": 4,
 "nbformat_minor": 0
}