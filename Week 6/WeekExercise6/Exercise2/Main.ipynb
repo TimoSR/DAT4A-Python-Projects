{
 "cells": [
  {
   "cell_type": "markdown",
   "metadata": {
    "collapsed": true,
    "pycharm": {
     "name": "#%% md\n"
    }
   },
   "source": [
    "# Exercise 2"
   ]
  },
  {
   "cell_type": "markdown",
   "source": [
    "###### 1. Find 10 books on https://www.gutenberg.org/browse/scores/top and download them using an object of the class you just created before\n"
   ],
   "metadata": {
    "collapsed": false,
    "pycharm": {
     "name": "#%% md\n"
    }
   }
  },
  {
   "cell_type": "code",
   "execution_count": 4,
   "outputs": [
    {
     "name": "stdout",
     "text": [
      "File: 1080-0.txt already exist in: Downloaded_Files, aborting download\n"
     ],
     "output_type": "stream"
    }
   ],
   "source": [
    "from WeekExercise6.Exercise1.Modules.URLDownloaderModule import URLDownloader\n",
    "\n",
    "# The top 10 books on the Gutenberg top 100 list\n",
    "\n",
    "book_urls = URLDownloader(['https://www.gutenberg.org/files/1080/1080-0.txt',\n",
    "            'https://www.gutenberg.org/files/1342/1342-0.txt',\n",
    "            'https://www.gutenberg.org/cache/epub/376/pg376.txt',\n",
    "            'https://www.gutenberg.org/files/84/84-0.txt',\n",
    "            'https://www.gutenberg.org/files/11/11-0.txt',\n",
    "            'https://www.gutenberg.org/files/43/43-0.txt',\n",
    "            'https://www.gutenberg.org/cache/epub/844/pg844.txt',\n",
    "            'https://www.gutenberg.org/cache/epub/2542/pg2542.txt',\n",
    "            'https://www.gutenberg.org/cache/epub/1635/pg1635.txt',\n",
    "            'https://www.gutenberg.org/files/120/120-0.txt'])\n",
    "\n",
    "book_urls.download('https://www.gutenberg.org/files/1080/1080-0.txt')\n",
    "\n",
    "\n"
   ],
   "metadata": {
    "collapsed": false,
    "pycharm": {
     "name": "#%%\n",
     "is_executing": false
    }
   }
  }
 ],
 "metadata": {
  "kernelspec": {
   "name": "pycharm-baeb7a01",
   "language": "python",
   "display_name": "PyCharm (Week 6)"
  },
  "language_info": {
   "codemirror_mode": {
    "name": "ipython",
    "version": 2
   },
   "file_extension": ".py",
   "mimetype": "text/x-python",
   "name": "python",
   "nbconvert_exporter": "python",
   "pygments_lexer": "ipython2",
   "version": "2.7.6"
  },
  "pycharm": {
   "stem_cell": {
    "cell_type": "raw",
    "source": [],
    "metadata": {
     "collapsed": false
    }
   }
  }
 },
 "nbformat": 4,
 "nbformat_minor": 0
}