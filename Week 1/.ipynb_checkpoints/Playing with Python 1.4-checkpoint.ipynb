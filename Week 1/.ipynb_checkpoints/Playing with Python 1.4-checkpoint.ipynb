{
 "cells": [
  {
   "cell_type": "markdown",
   "metadata": {
    "collapsed": true,
    "pycharm": {
     "name": "#%% md\n"
    }
   },
   "source": [
    "## Python build in data structures\n",
    "\n",
    "https://github.com/datsoftlyngby/dat4sem2020spring-python/blob/master/01-3%20Python%20data%20structures%20(lists%20and%20tuples).ipynb\n",
    "\n",
    "#### Sequence types:\n",
    "\n",
    "* List\n",
    "* Tupple\n",
    "\n",
    "#### Collection Types\n",
    "\n",
    "1. Dictionaries\n",
    "2. Sets"
   ]
  },
  {
   "cell_type": "code",
   "execution_count": 4,
   "metadata": {
    "pycharm": {
     "is_executing": false,
     "name": "#%%\n"
    }
   },
   "outputs": [
    {
     "name": "stdout",
     "output_type": "stream",
     "text": [
      "[1, 2, 2, 3]\n",
      "{1, 2, 3}\n",
      "{2, 3}\n"
     ]
    }
   ],
   "source": [
    "my_list = [1,2,2,3]\n",
    "print(my_list)\n",
    "my_set = set(my_list)\n",
    "print(my_set)\n",
    "my_set= {2, 3}\n",
    "print(my_set)"
   ]
  },
  {
   "cell_type": "markdown",
   "metadata": {
    "pycharm": {
     "name": "#%% md\n"
    }
   },
   "source": [
    "\n",
    "#### 6 types of Sequence in Python:\n",
    "\n",
    "1. String,\n",
    "2. list,\n",
    "3. tuple, (immutable list)\n",
    "4. Byte sequences, (immutable byte array)\n",
    "5. byte array, and\n",
    "6. range object\n",
    "\n",
    "### Members of collection type\n",
    "\n",
    "Collections in python are unordered data collections\n",
    "\n",
    "1. **Set**\n",
    "2. **Dictionary**"
   ]
  },
  {
   "cell_type": "markdown",
   "metadata": {
    "pycharm": {
     "name": "#%% md\n"
    }
   },
   "source": [
    "### 6 Sequence type data structures"
   ]
  },
  {
   "cell_type": "code",
   "execution_count": 9,
   "metadata": {
    "pycharm": {
     "is_executing": false,
     "name": "#%%\n"
    }
   },
   "outputs": [],
   "source": [
    "# The 6 sequence types\n",
    "\n",
    "string_object = str()\n",
    "\n",
    "list_object = list()\n",
    "\n",
    "tuple_object = tuple()\n",
    "\n",
    "byte_sequnce = b\n"
   ]
  }
 ],
 "metadata": {
  "kernelspec": {
   "display_name": "Python 3",
   "language": "python",
   "name": "python3"
  },
  "language_info": {
   "codemirror_mode": {
    "name": "ipython",
    "version": 3
   },
   "file_extension": ".py",
   "mimetype": "text/x-python",
   "name": "python",
   "nbconvert_exporter": "python",
   "pygments_lexer": "ipython3",
   "version": "3.7.6"
  },
  "pycharm": {
   "stem_cell": {
    "cell_type": "raw",
    "metadata": {
     "collapsed": false
    },
    "source": []
   }
  }
 },
 "nbformat": 4,
 "nbformat_minor": 1
}
