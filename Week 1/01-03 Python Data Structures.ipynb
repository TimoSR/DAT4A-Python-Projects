{
 "cells": [
  {
   "cell_type": "markdown",
   "metadata": {
    "collapsed": true,
    "pycharm": {
     "name": "#%% md\n"
    }
   },
   "source": [
    "#### Removing values from list"
   ]
  },
  {
   "cell_type": "code",
   "execution_count": 2,
   "outputs": [
    {
     "data": {
      "text/plain": "['Call', 'Timo']"
     },
     "metadata": {},
     "output_type": "execute_result",
     "execution_count": 2
    }
   ],
   "source": [
    "fst_sentecne = ['Call', 'me', 'Timo']\n",
    "\n",
    "del fst_sentecne[1]\n",
    "\n",
    "fst_sentecne"
   ],
   "metadata": {
    "collapsed": false,
    "pycharm": {
     "name": "#%%\n",
     "is_executing": false
    }
   }
  },
  {
   "cell_type": "markdown",
   "source": [
    "#### Sorting Value of a list"
   ],
   "metadata": {
    "collapsed": false
   }
  },
  {
   "cell_type": "code",
   "execution_count": 25,
   "outputs": [
    {
     "name": "stdout",
     "text": [
      "['Call', 'me', 'Timo']\n",
      "['Call', 'Timo', 'me']\n",
      "[0, 1, 5, 8, -1, 6]\n",
      "[-1, 0, 1, 5, 6, 8]\n"
     ],
     "output_type": "stream"
    }
   ],
   "source": [
    "# Sorting strings\n",
    "\n",
    "fst_sentecne = ['Call', 'me', 'Timo']\n",
    "\n",
    "sorted_setence = sorted(fst_sentecne)\n",
    "\n",
    "print(fst_sentecne)\n",
    "\n",
    "print(sorted_setence)\n",
    "\n",
    "\n",
    "# Sorting  numbers\n",
    "\n",
    "numbers = [0, 1, 5, 8, -1, 6]\n",
    "\n",
    "sorted_numbers = sorted(numbers)\n",
    "\n",
    "print(numbers)\n",
    "\n",
    "print(sorted_numbers)"
   ],
   "metadata": {
    "collapsed": false,
    "pycharm": {
     "name": "#%%\n",
     "is_executing": false
    }
   }
  },
  {
   "cell_type": "markdown",
   "source": [
    "#### Caluculating time can be very usefull!\n",
    "\n",
    "def is_in(el, value):\n",
    "    for value in values:\n",
    "        if el == value:\n",
    "            return True\n",
    "            \n"
   ],
   "metadata": {
    "collapsed": false,
    "pycharm": {
     "name": "#%% md\n"
    }
   }
  }
 ],
 "metadata": {
  "kernelspec": {
   "name": "pycharm-e3cb99e1",
   "language": "python",
   "display_name": "PyCharm (Week 1)"
  },
  "language_info": {
   "codemirror_mode": {
    "name": "ipython",
    "version": 2
   },
   "file_extension": ".py",
   "mimetype": "text/x-python",
   "name": "python",
   "nbconvert_exporter": "python",
   "pygments_lexer": "ipython2",
   "version": "2.7.6"
  },
  "pycharm": {
   "stem_cell": {
    "cell_type": "raw",
    "source": [],
    "metadata": {
     "collapsed": false
    }
   }
  }
 },
 "nbformat": 4,
 "nbformat_minor": 0
}