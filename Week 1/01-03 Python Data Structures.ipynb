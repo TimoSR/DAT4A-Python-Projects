{
 "cells": [
  {
   "cell_type": "markdown",
   "source": [
    "#### Removing values from list"
   ],
   "metadata": {
    "collapsed": false
   }
  },
  {
   "cell_type": "code",
   "execution_count": 2,
   "outputs": [
    {
     "data": {
      "text/plain": "['Call', 'Timo']"
     },
     "metadata": {},
     "output_type": "execute_result",
     "execution_count": 2
    }
   ],
   "source": [
    "fst_sentecne = ['Call', 'me', 'Timo']\n",
    "\n",
    "del fst_sentecne[1]\n",
    "\n",
    "fst_sentecne"
   ],
   "metadata": {
    "collapsed": false,
    "pycharm": {
     "name": "#%%\n",
     "is_executing": false
    }
   }
  },
  {
   "cell_type": "markdown",
   "source": [
    "#### Sorting Value of a list"
   ],
   "metadata": {
    "collapsed": false
   }
  },
  {
   "cell_type": "code",
   "execution_count": 3,
   "outputs": [
    {
     "name": "stdout",
     "text": [
      "['Call', 'me', 'Timo']\n",
      "['Call', 'Timo', 'me']\n",
      "[0, 1, 5, 8, -1, 6]\n",
      "[-1, 0, 1, 5, 6, 8]\n"
     ],
     "output_type": "stream"
    }
   ],
   "source": [
    "# Sorted copu of the list of strings\n",
    "\n",
    "fst_sentecne = ['Call', 'me', 'Timo']\n",
    "\n",
    "sorted_setence = sorted(fst_sentecne)\n",
    "\n",
    "print(fst_sentecne)\n",
    "\n",
    "print(sorted_setence)\n",
    "\n",
    "\n",
    "# Sorting  numbers\n",
    "\n",
    "numbers = [0, 1, 5, 8, -1, 6]\n",
    "\n",
    "sorted_numbers = sorted(numbers)\n",
    "\n",
    "print(numbers)\n",
    "\n",
    "print(sorted_numbers)"
   ],
   "metadata": {
    "collapsed": false,
    "pycharm": {
     "name": "#%%\n",
     "is_executing": false
    }
   }
  },
  {
   "cell_type": "markdown",
   "source": [
    "#### Caluculating time can be very usefull!"
   ],
   "metadata": {
    "collapsed": false
   }
  },
  {
   "cell_type": "code",
   "execution_count": 4,
   "outputs": [
    {
     "name": "stdout",
     "text": [
      "2.11 ms ± 213 µs per loop (mean ± std. dev. of 7 runs, 100 loops each)\n"
     ],
     "output_type": "stream"
    }
   ],
   "source": [
    "def is_in(el, values):\n",
    "    for value in values:\n",
    "        if el == value:\n",
    "            return True\n",
    "        \n",
    "%timeit is_in(55000, range(1000000))"
   ],
   "metadata": {
    "collapsed": false,
    "pycharm": {
     "name": "#%%\n",
     "is_executing": false
    }
   }
  },
  {
   "cell_type": "code",
   "execution_count": 5,
   "outputs": [
    {
     "name": "stdout",
     "text": [
      "8.62 ms ± 134 µs per loop (mean ± std. dev. of 7 runs, 100 loops each)\n",
      "8.83 ms ± 149 µs per loop (mean ± std. dev. of 7 runs, 100 loops each)\n"
     ],
     "output_type": "stream"
    }
   ],
   "source": [
    "#test\n",
    "\n",
    "lst = [num for num in range(2, 1000001) if num%2==0]\n",
    "%timeit min(lst)\n",
    "%timeit max(lst)"
   ],
   "metadata": {
    "collapsed": false,
    "pycharm": {
     "name": "#%%\n",
     "is_executing": false
    }
   }
  },
  {
   "cell_type": "markdown",
   "source": [
    "#### Multiple Assignments"
   ],
   "metadata": {
    "collapsed": false
   }
  },
  {
   "cell_type": "code",
   "execution_count": 8,
   "outputs": [
    {
     "name": "stdout",
     "text": [
      "Call me Timo\n",
      "Call\n"
     ],
     "output_type": "stream"
    }
   ],
   "source": [
    "#shortest way\n",
    "\n",
    "fst_sentecne = ['Call', 'me', 'Timo']\n",
    "\n",
    "word1, word2, word3 = fst_sentecne\n",
    "\n",
    "print(word1, word2, word3)\n",
    "\n",
    "\n",
    "#Best use in iteration/loops\n",
    "\n",
    "fst_word = fst_sentecne[0]\n",
    "\n",
    "print(fst_word)"
   ],
   "metadata": {
    "collapsed": false,
    "pycharm": {
     "name": "#%%\n",
     "is_executing": false
    }
   }
  },
  {
   "cell_type": "markdown",
   "source": [
    "#### Finding/Adding value in a list"
   ],
   "metadata": {
    "collapsed": false
   }
  },
  {
   "cell_type": "code",
   "execution_count": 15,
   "outputs": [
    {
     "data": {
      "text/plain": "['jum jum', 'Call', 'me', 'Timo', 'is Awesome']"
     },
     "metadata": {},
     "output_type": "execute_result",
     "execution_count": 15
    }
   ],
   "source": [
    "#Finding the position of the word in the list\n",
    "\n",
    "fst_sentecne2 = ['Call', 'me', 'Timo']\n",
    "\n",
    "fst_sentecne2.index('Timo')\n",
    "\n",
    "fst_sentecne2.append('is Awesome')\n",
    "\n",
    "fst_sentecne2\n",
    "\n",
    "fst_sentecne2.insert(0, 'jum jum')\n",
    "\n",
    "fst_sentecne2"
   ],
   "metadata": {
    "collapsed": false,
    "pycharm": {
     "name": "#%%\n",
     "is_executing": false
    }
   }
  },
  {
   "cell_type": "code",
   "execution_count": 16,
   "outputs": [
    {
     "data": {
      "text/plain": "['jum jum', 'me', 'Timo', 'is Awesome']"
     },
     "metadata": {},
     "output_type": "execute_result",
     "execution_count": 16
    }
   ],
   "source": [
    "# Removing something that don't exist will give an error\n",
    "\n",
    "fst_sentecne2.remove('Call')\n",
    "\n",
    "fst_sentecne2"
   ],
   "metadata": {
    "collapsed": false,
    "pycharm": {
     "name": "#%%\n",
     "is_executing": false
    }
   }
  },
  {
   "cell_type": "markdown",
   "source": [
    "####  Sorting the actual list"
   ],
   "metadata": {
    "collapsed": false
   }
  },
  {
   "cell_type": "code",
   "execution_count": 22,
   "outputs": [
    {
     "data": {
      "text/plain": "[5, 6, 7, 8, 8]"
     },
     "metadata": {},
     "output_type": "execute_result",
     "execution_count": 22
    }
   ],
   "source": [
    "# With Ints\n",
    "\n",
    "values = [6, 5, 8 ,7, 8]\n",
    "\n",
    "values.sort()\n",
    "\n",
    "values"
   ],
   "metadata": {
    "collapsed": false,
    "pycharm": {
     "name": "#%%\n",
     "is_executing": false
    }
   }
  },
  {
   "cell_type": "code",
   "execution_count": 23,
   "outputs": [
    {
     "name": "stdout",
     "text": [
      "['Jose', 'Mus', 'Timo']\n",
      "['Timo', 'Mus', 'Jose']\n"
     ],
     "output_type": "stream"
    }
   ],
   "source": [
    "# With Strings\n",
    "\n",
    "words = ['Timo', 'Jose', 'Mus']\n",
    "\n",
    "words.sort()\n",
    "\n",
    "print(words)\n",
    "\n",
    "words.sort(reverse=True)\n",
    "\n",
    "print(words)"
   ],
   "metadata": {
    "collapsed": false,
    "pycharm": {
     "name": "#%%\n",
     "is_executing": false
    }
   }
  },
  {
   "cell_type": "code",
   "execution_count": 26,
   "outputs": [
    {
     "name": "stdout",
     "text": [
      "['bird', 'monkey', 'Elephant']\n"
     ],
     "output_type": "stream"
    }
   ],
   "source": [
    "# Sort Criteria \n",
    "\n",
    "def myFunc(e):\n",
    "    return len(e)\n",
    "\n",
    "my_list = ['monkey', 'Elephant', 'bird']\n",
    "my_list.sort(key=myFunc)\n",
    "print(my_list)"
   ],
   "metadata": {
    "collapsed": false,
    "pycharm": {
     "name": "#%%\n",
     "is_executing": false
    }
   }
  },
  {
   "cell_type": "code",
   "execution_count": 29,
   "outputs": [
    {
     "data": {
      "text/plain": "'jum jum;me;Timo;is Awesome'"
     },
     "metadata": {},
     "output_type": "execute_result",
     "execution_count": 29
    }
   ],
   "source": [
    "# Joining a List into a string\n",
    "\n",
    "fst_sentecne\n",
    "(';').join(fst_sentecne)\n"
   ],
   "metadata": {
    "collapsed": false,
    "pycharm": {
     "name": "#%%\n",
     "is_executing": false
    }
   }
  },
  {
   "cell_type": "markdown",
   "source": [
    "#### List Comprehensions\n",
    "\n",
    "A list comprehension allows you to generate arbitrary lists in just one line of code. A list comprehension combines the for loop and the creation of new elements into one line, and automatically appends each new element. List comprehensions are not always presented to beginners, but we have included them here because you’ll most likely see them as soon as you start looking at other people’s code, they may make your code more concise, and they have a better performance than normal loops. List comprehension consists of 2 to 3 parts:\n",
    "\n",
    "1. loop part\n",
    "2. element manipulation part\n",
    "3. optional: filter part\n",
    "\n",
    "new_list = [value * 2 for value in range(0,21) if value < 100] part1 is in the midle: for value in range(0,21) part 2 is first: value * 2 part 3 is last starting with if: if value < 100"
   ],
   "metadata": {
    "collapsed": false
   }
  },
  {
   "cell_type": "code",
   "execution_count": 35,
   "outputs": [
    {
     "name": "stdout",
     "text": [
      "[0, 1, 4, 9, 16]\n",
      "[0, 2, 4, 6, 8, 10, 12, 14, 16, 18, 20, 22, 24, 26, 28, 30, 32, 34, 36, 38, 40]\n"
     ],
     "output_type": "stream"
    }
   ],
   "source": [
    "# This is a cool way to make testing \n",
    "\n",
    "lst_comp = [i**2 for i in range(5)]\n",
    "print(lst_comp)\n",
    "\n",
    "list_comp2 = [value * 2 for value in range(0,21) if value < 100]\n",
    "print(list_comp2)"
   ],
   "metadata": {
    "collapsed": false,
    "pycharm": {
     "name": "#%%\n",
     "is_executing": false
    }
   }
  },
  {
   "cell_type": "code",
   "execution_count": 36,
   "outputs": [
    {
     "name": "stdout",
     "text": [
      "[0, 4, 16, 36, 64, 100, 144, 196, 256, 324, 400]\n"
     ],
     "output_type": "stream"
    }
   ],
   "source": [
    "squares = [idx ** 2 for idx, value in enumerate(range(0,21)) if value%2 == 0]\n",
    "print(squares)\n",
    "\n"
   ],
   "metadata": {
    "collapsed": false,
    "pycharm": {
     "name": "#%%\n",
     "is_executing": false
    }
   }
  }
 ],
 "metadata": {
  "kernelspec": {
   "name": "pycharm-e3cb99e1",
   "language": "python",
   "display_name": "PyCharm (Week 1)"
  },
  "language_info": {
   "codemirror_mode": {
    "name": "ipython",
    "version": 2
   },
   "file_extension": ".py",
   "mimetype": "text/x-python",
   "name": "python",
   "nbconvert_exporter": "python",
   "pygments_lexer": "ipython2",
   "version": "2.7.6"
  },
  "pycharm": {
   "stem_cell": {
    "cell_type": "raw",
    "source": [],
    "metadata": {
     "collapsed": false
    }
   }
  }
 },
 "nbformat": 4,
 "nbformat_minor": 0
}