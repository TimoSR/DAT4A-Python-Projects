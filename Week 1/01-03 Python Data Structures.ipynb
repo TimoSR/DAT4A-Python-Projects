{
 "cells": [
  {
   "cell_type": "markdown",
   "source": [
    "#### Removing values from list"
   ],
   "metadata": {
    "collapsed": false
   }
  },
  {
   "cell_type": "code",
   "execution_count": 31,
   "outputs": [
    {
     "data": {
      "text/plain": "['Call', 'Timo']"
     },
     "metadata": {},
     "output_type": "execute_result",
     "execution_count": 31
    }
   ],
   "source": [
    "fst_sentecne = ['Call', 'me', 'Timo']\n",
    "\n",
    "del fst_sentecne[1]\n",
    "\n",
    "fst_sentecne"
   ],
   "metadata": {
    "collapsed": false,
    "pycharm": {
     "name": "#%%\n",
     "is_executing": false
    }
   }
  },
  {
   "cell_type": "markdown",
   "source": [
    "#### Sorting Value of a list"
   ],
   "metadata": {
    "collapsed": false
   }
  },
  {
   "cell_type": "code",
   "execution_count": 32,
   "outputs": [
    {
     "name": "stdout",
     "text": [
      "['Call', 'me', 'Timo']\n",
      "['Call', 'Timo', 'me']\n",
      "[0, 1, 5, 8, -1, 6]\n",
      "[-1, 0, 1, 5, 6, 8]\n"
     ],
     "output_type": "stream"
    }
   ],
   "source": [
    "# Sorting strings\n",
    "\n",
    "fst_sentecne = ['Call', 'me', 'Timo']\n",
    "\n",
    "sorted_setence = sorted(fst_sentecne)\n",
    "\n",
    "print(fst_sentecne)\n",
    "\n",
    "print(sorted_setence)\n",
    "\n",
    "\n",
    "# Sorting  numbers\n",
    "\n",
    "numbers = [0, 1, 5, 8, -1, 6]\n",
    "\n",
    "sorted_numbers = sorted(numbers)\n",
    "\n",
    "print(numbers)\n",
    "\n",
    "print(sorted_numbers)"
   ],
   "metadata": {
    "collapsed": false,
    "pycharm": {
     "name": "#%%\n",
     "is_executing": false
    }
   }
  },
  {
   "cell_type": "markdown",
   "source": [
    "#### Caluculating time can be very usefull!"
   ],
   "metadata": {
    "collapsed": false
   }
  },
  {
   "cell_type": "code",
   "execution_count": 33,
   "outputs": [
    {
     "name": "stdout",
     "text": [
      "2.61 ms ± 314 µs per loop (mean ± std. dev. of 7 runs, 100 loops each)\n"
     ],
     "output_type": "stream"
    }
   ],
   "source": [
    "def is_in(el, values):\n",
    "    for value in values:\n",
    "        if el == value:\n",
    "            return True\n",
    "        \n",
    "%timeit is_in(55000, range(1000000))"
   ],
   "metadata": {
    "collapsed": false,
    "pycharm": {
     "name": "#%%\n",
     "is_executing": false
    }
   }
  },
  {
   "cell_type": "code",
   "execution_count": 34,
   "outputs": [
    {
     "name": "stdout",
     "text": [
      "8.83 ms ± 118 µs per loop (mean ± std. dev. of 7 runs, 100 loops each)\n",
      "8.95 ms ± 80.6 µs per loop (mean ± std. dev. of 7 runs, 100 loops each)\n"
     ],
     "output_type": "stream"
    }
   ],
   "source": [
    "#test\n",
    "\n",
    "lst = [num for num in range(2, 1000001) if num%2==0]\n",
    "%timeit min(lst)\n",
    "%timeit max(lst)"
   ],
   "metadata": {
    "collapsed": false,
    "pycharm": {
     "name": "#%%\n",
     "is_executing": false
    }
   }
  },
  {
   "cell_type": "markdown",
   "source": [
    "#### Multiple Assignments"
   ],
   "metadata": {
    "collapsed": false
   }
  },
  {
   "cell_type": "code",
   "execution_count": 35,
   "outputs": [
    {
     "name": "stdout",
     "text": [
      "Call me Timo\n",
      "Call\n"
     ],
     "output_type": "stream"
    }
   ],
   "source": [
    "#shortest way\n",
    "\n",
    "fst_sentecne = ['Call', 'me', 'Timo']\n",
    "\n",
    "word1, word2, word3 = fst_sentecne\n",
    "\n",
    "print(word1, word2, word3)\n",
    "\n",
    "\n",
    "#Best use in iteration/loops\n",
    "\n",
    "fst_word = fst_sentecne[0]\n",
    "\n",
    "print(fst_word)"
   ],
   "metadata": {
    "collapsed": false,
    "pycharm": {
     "name": "#%%\n",
     "is_executing": false
    }
   }
  },
  {
   "cell_type": "markdown",
   "source": [
    "#### Finding/Adding value in a list"
   ],
   "metadata": {
    "collapsed": false
   }
  },
  {
   "cell_type": "code",
   "execution_count": 38,
   "outputs": [
    {
     "traceback": [
      "\u001b[1;31m---------------------------------------------------------------------------\u001b[0m",
      "\u001b[1;31mValueError\u001b[0m                                Traceback (most recent call last)",
      "\u001b[1;32m<ipython-input-38-d378ba941e59>\u001b[0m in \u001b[0;36m<module>\u001b[1;34m\u001b[0m\n\u001b[0;32m     13\u001b[0m \u001b[1;31m# A safe way to remove something from a list without risking a value error\u001b[0m\u001b[1;33m\u001b[0m\u001b[1;33m\u001b[0m\u001b[1;33m\u001b[0m\u001b[0m\n\u001b[0;32m     14\u001b[0m \u001b[1;33m\u001b[0m\u001b[0m\n\u001b[1;32m---> 15\u001b[1;33m \u001b[0mfst_sentecne\u001b[0m\u001b[1;33m.\u001b[0m\u001b[0mremove\u001b[0m\u001b[1;33m(\u001b[0m\u001b[1;34m'Call'\u001b[0m\u001b[1;33m)\u001b[0m\u001b[1;33m\u001b[0m\u001b[1;33m\u001b[0m\u001b[0m\n\u001b[0m\u001b[0;32m     16\u001b[0m \u001b[1;33m\u001b[0m\u001b[0m\n\u001b[0;32m     17\u001b[0m \u001b[0mfst_sentecne\u001b[0m\u001b[1;33m\u001b[0m\u001b[1;33m\u001b[0m\u001b[0m\n",
      "\u001b[1;31mValueError\u001b[0m: list.remove(x): x not in list"
     ],
     "ename": "ValueError",
     "evalue": "list.remove(x): x not in list",
     "output_type": "error"
    }
   ],
   "source": [
    "#Finding the position of the word in the list\n",
    "\n",
    "fst_sentecne.index('Timo')\n",
    "\n",
    "fst_sentecne.append('is Awesome')\n",
    "\n",
    "fst_sentecne\n",
    "\n",
    "fst_sentecne.insert(0, 'jum jum')\n",
    "\n",
    "fst_sentecne\n",
    "\n",
    "# Removing something that don't exist will give an error\n",
    "\n",
    "fst_sentecne.remove('Call')\n",
    "\n",
    "fst_sentecne"
   ],
   "metadata": {
    "collapsed": false,
    "pycharm": {
     "name": "#%%\n",
     "is_executing": false
    }
   }
  }
 ],
 "metadata": {
  "kernelspec": {
   "name": "pycharm-e3cb99e1",
   "language": "python",
   "display_name": "PyCharm (Week 1)"
  },
  "language_info": {
   "codemirror_mode": {
    "name": "ipython",
    "version": 2
   },
   "file_extension": ".py",
   "mimetype": "text/x-python",
   "name": "python",
   "nbconvert_exporter": "python",
   "pygments_lexer": "ipython2",
   "version": "2.7.6"
  },
  "pycharm": {
   "stem_cell": {
    "cell_type": "raw",
    "source": [],
    "metadata": {
     "collapsed": false
    }
   }
  }
 },
 "nbformat": 4,
 "nbformat_minor": 0
}