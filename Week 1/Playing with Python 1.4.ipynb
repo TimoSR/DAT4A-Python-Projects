{
 "cells": [
  {
   "cell_type": "markdown",
   "metadata": {
    "collapsed": true,
    "pycharm": {
     "name": "#%% md\n"
    }
   },
   "source": [
    "## Python build in data structures\n",
    "\n",
    "https://github.com/datsoftlyngby/dat4sem2020spring-python/blob/master/01-3%20Python%20data%20structures%20(lists%20and%20tuples).ipynb\n",
    "\n",
    "#### Sequence types:\n",
    "\n",
    "* List\n",
    "* Tupple\n",
    "\n",
    "#### Collection Types\n",
    "\n",
    "1. Dictionaries\n",
    "2. Sets"
   ]
  },
  {
   "cell_type": "code",
   "execution_count": 1,
   "metadata": {
    "pycharm": {
     "is_executing": false,
     "name": "#%%\n"
    }
   },
   "outputs": [
    {
     "name": "stdout",
     "text": [
      "[1, 2, 2, 3]\n",
      "{1, 2, 3}\n",
      "{2, 3}\n"
     ],
     "output_type": "stream"
    }
   ],
   "source": [
    "my_list = [1,2,2,3]\n",
    "print(my_list)\n",
    "my_set = set(my_list)\n",
    "print(my_set)\n",
    "my_set= {2, 3}\n",
    "print(my_set)"
   ]
  },
  {
   "cell_type": "markdown",
   "metadata": {
    "pycharm": {
     "name": "#%% md\n"
    }
   },
   "source": [
    "\n",
    "#### 6 types of Sequence in Python:\n",
    "\n",
    "1. String,\n",
    "2. list,\n",
    "3. tuple, (immutable list)\n",
    "4. Byte sequences, (immutable byte array)\n",
    "5. byte array, and\n",
    "6. range object\n",
    "\n",
    "### Members of collection type\n",
    "\n",
    "Collections in python are unordered data collections\n",
    "\n",
    "1. **Set**\n",
    "2. **Dictionary**"
   ]
  },
  {
   "cell_type": "markdown",
   "metadata": {
    "pycharm": {
     "name": "#%% md\n"
    }
   },
   "source": [
    "### 6 Sequence type data structures"
   ]
  },
  {
   "cell_type": "code",
   "execution_count": 2,
   "metadata": {
    "pycharm": {
     "is_executing": false,
     "name": "#%%\n"
    }
   },
   "outputs": [
    {
     "data": {
      "text/plain": "b'Hello'"
     },
     "metadata": {},
     "output_type": "execute_result",
     "execution_count": 2
    }
   ],
   "source": [
    "# The 6 sequence types\n",
    "\n",
    "string_object = str()\n",
    "\n",
    "list_object = list()\n",
    "\n",
    "tuple_object = tuple()\n",
    "\n",
    "byte_sequence = bytearray()\n",
    "\n",
    "byte_array = bytearray()\n",
    "\n",
    "range_object = range(5)\n",
    "\n",
    "bytes(\"Hello\", \"utf-8\")"
   ]
  },
  {
   "cell_type": "markdown",
   "source": [
    "### Sequence Operators\n",
    "Measuring against"
   ],
   "metadata": {
    "collapsed": false,
    "pycharm": {
     "name": "#%% md\n"
    }
   }
  },
  {
   "cell_type": "code",
   "execution_count": 3,
   "outputs": [
    {
     "name": "stdout",
     "text": [
      "<class 'list'>\n",
      "True True True True False\n"
     ],
     "output_type": "stream"
    }
   ],
   "source": [
    "my_list = [1, 3, 3]\n",
    "print(type(my_list))\n",
    "\n",
    "# The 'in' operator used on sequences \n",
    "\n",
    "sTrInString = \"hello\" in \"hello world\"\n",
    "elementInList = 2 in [1,2,3,4,5,6,7]\n",
    "\n",
    "# Is any of the elements in the list\n",
    "anyElementListInList = any(element in [7, 6, 5] for element in [1,2,3,4,5,6,7] )\n",
    "\n",
    "# You compare the other list to the inner list\n",
    "allElementsInList = all(element in [7,6,5,4,1,2,3] for element in [1,2,3,4,5,6,7])\n",
    "\n",
    "allElementsInList2 = all(element in [7,6,5] for element in [1,2,3,4,5,6,7])\n",
    "\n",
    "print(sTrInString, elementInList, anyElementListInList, allElementsInList, allElementsInList2)"
   ],
   "metadata": {
    "collapsed": false,
    "pycharm": {
     "name": "#%%\n",
     "is_executing": false
    }
   }
  },
  {
   "cell_type": "markdown",
   "source": [
    "## 2 Collection type data structures:"
   ],
   "metadata": {
    "collapsed": false,
    "pycharm": {
     "name": "#%% md\n"
    }
   }
  },
  {
   "cell_type": "code",
   "execution_count": 4,
   "outputs": [
    {
     "name": "stdout",
     "text": [
      "{3, 4, 6, 7} duplicates are cast away\n",
      "{1, 2, 3, 4}\n"
     ],
     "output_type": "stream"
    }
   ],
   "source": [
    "my_list = [2]\n",
    "my_set = {2}\n",
    "my_tuple = 2\n",
    "\n",
    "# A set is an unordered collection of unique elements\n",
    "\n",
    "my_set = {3,7,6,3,4}\n",
    "print(my_set, 'duplicates are cast away')\n",
    "\n",
    "my_set = set([1,3,4,2,3,3,2,4])\n",
    "print(my_set)"
   ],
   "metadata": {
    "collapsed": false,
    "pycharm": {
     "name": "#%%\n",
     "is_executing": false
    }
   }
  },
  {
   "cell_type": "code",
   "execution_count": 5,
   "outputs": [
    {
     "traceback": [
      "\u001b[1;31m---------------------------------------------------------------------------\u001b[0m",
      "\u001b[1;31mKeyError\u001b[0m                                  Traceback (most recent call last)",
      "\u001b[1;32m<ipython-input-5-817a113ccd36>\u001b[0m in \u001b[0;36m<module>\u001b[1;34m\u001b[0m\n\u001b[0;32m      2\u001b[0m \u001b[1;33m\u001b[0m\u001b[0m\n\u001b[0;32m      3\u001b[0m \u001b[0mmy_dictionary\u001b[0m \u001b[1;33m=\u001b[0m \u001b[1;33m{\u001b[0m\u001b[1;36m1\u001b[0m\u001b[1;33m:\u001b[0m\u001b[1;36m2\u001b[0m\u001b[1;33m,\u001b[0m \u001b[1;36m2\u001b[0m\u001b[1;33m:\u001b[0m\u001b[1;36m9\u001b[0m\u001b[1;33m}\u001b[0m\u001b[1;33m\u001b[0m\u001b[1;33m\u001b[0m\u001b[0m\n\u001b[1;32m----> 4\u001b[1;33m \u001b[0mprint\u001b[0m\u001b[1;33m(\u001b[0m\u001b[0mmy_dictionary\u001b[0m\u001b[1;33m[\u001b[0m\u001b[1;34m'otto'\u001b[0m\u001b[1;33m]\u001b[0m\u001b[1;33m)\u001b[0m\u001b[1;33m\u001b[0m\u001b[1;33m\u001b[0m\u001b[0m\n\u001b[0m\u001b[0;32m      5\u001b[0m \u001b[0mmy_dictionary\u001b[0m\u001b[1;33m[\u001b[0m\u001b[1;34m'beate'\u001b[0m\u001b[1;33m]\u001b[0m \u001b[1;33m=\u001b[0m \u001b[1;36m8\u001b[0m\u001b[1;33m\u001b[0m\u001b[1;33m\u001b[0m\u001b[0m\n\u001b[0;32m      6\u001b[0m \u001b[0mprint\u001b[0m\u001b[1;33m(\u001b[0m\u001b[0mmy_dictionary\u001b[0m\u001b[1;33m[\u001b[0m\u001b[1;36m1\u001b[0m\u001b[1;33m]\u001b[0m\u001b[1;33m)\u001b[0m\u001b[1;33m\u001b[0m\u001b[1;33m\u001b[0m\u001b[0m\n",
      "\u001b[1;31mKeyError\u001b[0m: 'otto'"
     ],
     "ename": "KeyError",
     "evalue": "'otto'",
     "output_type": "error"
    }
   ],
   "source": [
    "# Dictionary is an unordered collection of key, value pairs like a **map** in java and like **object** in javascript\n",
    "\n",
    "my_dictionary = {1:2, 2:9}\n",
    "print(my_dictionary['otto'])\n",
    "my_dictionary['beate'] = 8\n",
    "print(my_dictionary[1])\n"
   ],
   "metadata": {
    "collapsed": false,
    "pycharm": {
     "name": "#%%\n",
     "is_executing": false
    }
   }
  }
 ],
 "metadata": {
  "kernelspec": {
   "name": "pycharm-e3cb99e1",
   "language": "python",
   "display_name": "PyCharm (Week 1)"
  },
  "language_info": {
   "codemirror_mode": {
    "name": "ipython",
    "version": 3
   },
   "file_extension": ".py",
   "mimetype": "text/x-python",
   "name": "python",
   "nbconvert_exporter": "python",
   "pygments_lexer": "ipython3",
   "version": "3.7.6"
  },
  "pycharm": {
   "stem_cell": {
    "cell_type": "raw",
    "source": [],
    "metadata": {
     "collapsed": false
    }
   }
  }
 },
 "nbformat": 4,
 "nbformat_minor": 1
}