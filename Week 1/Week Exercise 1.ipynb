{
 "cells": [
  {
   "cell_type": "markdown",
   "metadata": {
    "collapsed": true,
    "pycharm": {
     "name": "#%% md\n"
    }
   },
   "source": [
    "# Week Exercise 1"
   ]
  },
  {
   "cell_type": "markdown",
   "source": [
    "1(A) Iterate a list of names to return a list of the names starting with H\n",
    "  "
   ],
   "metadata": {
    "collapsed": false
   }
  },
  {
   "cell_type": "code",
   "execution_count": 12,
   "outputs": [
    {
     "data": {
      "text/plain": "['Hans', 'Holger']"
     },
     "metadata": {},
     "output_type": "execute_result",
     "execution_count": 12
    }
   ],
   "source": [
    "# Crating List of names\n",
    "\n",
    "list_of_names = ['Hans', 'Jørgen', 'Holger', 'Berta']\n",
    "\n",
    "# Sorting the list of names starting with 'H'\n",
    "\n",
    "names_w_H = [name for name in list_of_names if 'H' in name]\n",
    "\n",
    "names_w_H"
   ],
   "metadata": {
    "collapsed": false,
    "pycharm": {
     "name": "#%%\n",
     "is_executing": false
    }
   }
  },
  {
   "cell_type": "markdown",
   "source": [
    "1(B) In one line create a list of the numbers 1-100 to the power of 3"
   ],
   "metadata": {
    "collapsed": false
   }
  },
  {
   "cell_type": "code",
   "execution_count": 27,
   "outputs": [
    {
     "data": {
      "text/plain": "[1,\n 8,\n 27,\n 64,\n 125,\n 216,\n 343,\n 512,\n 729,\n 1000,\n 1331,\n 1728,\n 2197,\n 2744,\n 3375,\n 4096,\n 4913,\n 5832,\n 6859,\n 8000,\n 9261,\n 10648,\n 12167,\n 13824,\n 15625,\n 17576,\n 19683,\n 21952,\n 24389,\n 27000,\n 29791,\n 32768,\n 35937,\n 39304,\n 42875,\n 46656,\n 50653,\n 54872,\n 59319,\n 64000,\n 68921,\n 74088,\n 79507,\n 85184,\n 91125,\n 97336,\n 103823,\n 110592,\n 117649,\n 125000,\n 132651,\n 140608,\n 148877,\n 157464,\n 166375,\n 175616,\n 185193,\n 195112,\n 205379,\n 216000,\n 226981,\n 238328,\n 250047,\n 262144,\n 274625,\n 287496,\n 300763,\n 314432,\n 328509,\n 343000,\n 357911,\n 373248,\n 389017,\n 405224,\n 421875,\n 438976,\n 456533,\n 474552,\n 493039,\n 512000,\n 531441,\n 551368,\n 571787,\n 592704,\n 614125,\n 636056,\n 658503,\n 681472,\n 704969,\n 729000,\n 753571,\n 778688,\n 804357,\n 830584,\n 857375,\n 884736,\n 912673,\n 941192,\n 970299]"
     },
     "metadata": {},
     "output_type": "execute_result",
     "execution_count": 27
    }
   ],
   "source": [
    "list_of_numbers = [i**3 for i in range(1,100)]\n",
    "\n",
    "list_of_numbers"
   ],
   "metadata": {
    "collapsed": false,
    "pycharm": {
     "name": "#%%\n",
     "is_executing": false
    }
   }
  },
  {
   "cell_type": "markdown",
   "source": [
    "1(C) Iterate a list of names to create a list of tuples where the tuples first value is the length of the name and the second is the name"
   ],
   "metadata": {
    "collapsed": false,
    "pycharm": {
     "name": "#%% md\n"
    }
   }
  },
  {
   "cell_type": "code",
   "execution_count": 42,
   "outputs": [
    {
     "name": "stdout",
     "text": [
      "[(4, 'Hans'), (6, 'Jørgen'), (6, 'Holger'), (5, 'Berta')]\n"
     ],
     "output_type": "stream"
    }
   ],
   "source": [
    "# To test program logic\n",
    "\n",
    "#for name, name in enumerate(list_of_names):\n",
    "#   print(len(name), name)\n",
    "\n",
    "# Finished Result\n",
    "\n",
    "list_of_tuples = [(len(name), name) for name in list_of_names]\n",
    "\n",
    "print(list_of_tuples)\n"
   ],
   "metadata": {
    "collapsed": false,
    "pycharm": {
     "name": "#%%\n",
     "is_executing": false
    }
   }
  },
  {
   "cell_type": "markdown",
   "source": [
    "1(D) Iterate over each character in a string and get only those that are numeric"
   ],
   "metadata": {
    "collapsed": false,
    "pycharm": {
     "name": "#%% md\n"
    }
   }
  },
  {
   "cell_type": "code",
   "execution_count": 44,
   "outputs": [
    {
     "name": "stdout",
     "text": [
      "A new pc costs 20000, but if you buy 3 you will get them for 30000\n"
     ],
     "output_type": "stream"
    },
    {
     "data": {
      "text/plain": "[3, 30000]"
     },
     "metadata": {},
     "output_type": "execute_result",
     "execution_count": 44
    }
   ],
   "source": [
    "# String initialization \n",
    "\n",
    "test_string = \"A new pc costs 20000, but if you buy 3 you will get them for 30000\"\n",
    "\n",
    "# Printing the original string \n",
    "\n",
    "print(test_string)\n",
    "\n",
    "# Result\n",
    "\n",
    "res = [int(i) for i in test_string.split() if i.isdigit()]\n",
    "\n",
    "res"
   ],
   "metadata": {
    "collapsed": false,
    "pycharm": {
     "name": "#%%\n",
     "is_executing": false
    }
   }
  },
  {
   "cell_type": "markdown",
   "source": [
    "1(3) Using only a list comprehension wrapped in set() get all possible combination from throwing 2 dice\n"
   ],
   "metadata": {
    "collapsed": false
   }
  }
 ],
 "metadata": {
  "kernelspec": {
   "name": "pycharm-e3cb99e1",
   "language": "python",
   "display_name": "PyCharm (Week 1)"
  },
  "language_info": {
   "codemirror_mode": {
    "name": "ipython",
    "version": 2
   },
   "file_extension": ".py",
   "mimetype": "text/x-python",
   "name": "python",
   "nbconvert_exporter": "python",
   "pygments_lexer": "ipython2",
   "version": "2.7.6"
  },
  "pycharm": {
   "stem_cell": {
    "cell_type": "raw",
    "source": [],
    "metadata": {
     "collapsed": false
    }
   }
  }
 },
 "nbformat": 4,
 "nbformat_minor": 0
}