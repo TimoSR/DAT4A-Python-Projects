{
 "cells": [
  {
   "cell_type": "markdown",
   "metadata": {
    "collapsed": true,
    "pycharm": {
     "name": "#%% md\n"
    }
   },
   "source": [
    "# Week Exercise 1"
   ]
  },
  {
   "cell_type": "markdown",
   "source": [
    "## Part 1 \n",
    "\n",
    "Create 5 list comprehensions to solve the following 5 problems:\n",
    "\n",
    "##### 1(A) Iterate a list of names to return a list of the names starting with H\n",
    "  "
   ],
   "metadata": {
    "collapsed": false
   }
  },
  {
   "cell_type": "code",
   "execution_count": 12,
   "outputs": [
    {
     "data": {
      "text/plain": "['Hans', 'Holger']"
     },
     "metadata": {},
     "output_type": "execute_result",
     "execution_count": 12
    }
   ],
   "source": [
    "# Crating List of names\n",
    "\n",
    "list_of_names = ['Hans', 'Jørgen', 'Holger', 'Berta']\n",
    "\n",
    "# Sorting the list of names starting with 'H'\n",
    "\n",
    "names_w_H = [name for name in list_of_names if 'H' in name]\n",
    "\n",
    "names_w_H"
   ],
   "metadata": {
    "collapsed": false,
    "pycharm": {
     "name": "#%%\n",
     "is_executing": false
    }
   }
  },
  {
   "cell_type": "markdown",
   "source": [
    "##### 1(B) In one line create a list of the numbers 1-100 to the power of 3"
   ],
   "metadata": {
    "collapsed": false
   }
  },
  {
   "cell_type": "code",
   "execution_count": 57,
   "outputs": [
    {
     "name": "stdout",
     "text": [
      "[1, 8, 27, 64, 125, 216, 343, 512, 729, 1000, 1331, 1728, 2197, 2744, 3375, 4096, 4913, 5832, 6859, 8000, 9261, 10648, 12167, 13824, 15625, 17576, 19683, 21952, 24389, 27000, 29791, 32768, 35937, 39304, 42875, 46656, 50653, 54872, 59319, 64000, 68921, 74088, 79507, 85184, 91125, 97336, 103823, 110592, 117649, 125000, 132651, 140608, 148877, 157464, 166375, 175616, 185193, 195112, 205379, 216000, 226981, 238328, 250047, 262144, 274625, 287496, 300763, 314432, 328509, 343000, 357911, 373248, 389017, 405224, 421875, 438976, 456533, 474552, 493039, 512000, 531441, 551368, 571787, 592704, 614125, 636056, 658503, 681472, 704969, 729000, 753571, 778688, 804357, 830584, 857375, 884736, 912673, 941192, 970299, 1000000]\n"
     ],
     "output_type": "stream"
    }
   ],
   "source": [
    "list_of_numbers = [i**3 for i in range(1,101)]\n",
    "\n",
    "print(list_of_numbers)"
   ],
   "metadata": {
    "collapsed": false,
    "pycharm": {
     "name": "#%%\n",
     "is_executing": false
    }
   }
  },
  {
   "cell_type": "markdown",
   "source": [
    "##### 1(C) Iterate a list of names to create a list of tuples where the tuples first value is the length of the name and the second is the name"
   ],
   "metadata": {
    "collapsed": false,
    "pycharm": {
     "name": "#%% md\n"
    }
   }
  },
  {
   "cell_type": "code",
   "execution_count": 56,
   "outputs": [
    {
     "name": "stdout",
     "text": [
      "[(4, 'Hans'), (6, 'Jørgen'), (6, 'Holger'), (5, 'Berta')]\n"
     ],
     "output_type": "stream"
    }
   ],
   "source": [
    "# To test program logic\n",
    "\n",
    "#for name, name in enumerate(list_of_names):\n",
    "#   print(len(name), name)\n",
    "\n",
    "# Finished Result\n",
    "\n",
    "list_of_tuples = [(len(name), name) for name in list_of_names]\n",
    "\n",
    "print(list_of_tuples)\n"
   ],
   "metadata": {
    "collapsed": false,
    "pycharm": {
     "name": "#%%\n",
     "is_executing": false
    }
   }
  },
  {
   "cell_type": "markdown",
   "source": [
    "##### 1(D) Iterate over each character in a string and get only those that are numeric"
   ],
   "metadata": {
    "collapsed": false,
    "pycharm": {
     "name": "#%% md\n"
    }
   }
  },
  {
   "cell_type": "code",
   "execution_count": 60,
   "outputs": [
    {
     "name": "stdout",
     "text": [
      "A new pc costs 20000 but if you buy 3 you will get them for 30000\n"
     ],
     "output_type": "stream"
    },
    {
     "data": {
      "text/plain": "[20000, 3, 30000]"
     },
     "metadata": {},
     "output_type": "execute_result",
     "execution_count": 60
    }
   ],
   "source": [
    "# String initialization \n",
    "\n",
    "# Ask teacher: Whem comma is added besides a numper it is no longer seen as a number?\n",
    "\n",
    "test_string = \"A new pc costs 20000 but if you buy 3 you will get them for 30000\"\n",
    "\n",
    "# Printing the original string \n",
    "\n",
    "print(test_string)\n",
    "\n",
    "# Result\n",
    "\n",
    "res = [int(i) for i in test_string.split() if i.isdigit()]\n",
    "\n",
    "res"
   ],
   "metadata": {
    "collapsed": false,
    "pycharm": {
     "name": "#%%\n",
     "is_executing": false
    }
   }
  },
  {
   "cell_type": "markdown",
   "source": [
    "##### 1(3) Using only a list comprehension wrapped in set() get all possible combination from throwing 2 dice"
   ],
   "metadata": {
    "collapsed": false
   }
  },
  {
   "cell_type": "code",
   "execution_count": 53,
   "outputs": [
    {
     "name": "stdout",
     "text": [
      "Amount of combinations 36\n",
      "{(1, 3), (6, 6), (5, 6), (2, 1), (6, 2), (1, 6), (5, 1), (2, 5), (1, 2), (3, 3), (5, 5), (4, 4), (6, 3), (1, 5), (3, 6), (2, 2), (4, 1), (1, 1), (6, 4), (3, 2), (2, 6), (5, 4), (4, 5), (5, 2), (1, 4), (2, 3), (4, 2), (6, 5), (3, 5), (5, 3), (4, 6), (6, 1), (3, 1), (4, 3), (3, 4), (2, 4)}\n"
     ],
     "output_type": "stream"
    }
   ],
   "source": [
    "from itertools import product\n",
    "\n",
    "# Creating 2 dices\n",
    "\n",
    "myList = list(product(range(1,7), repeat=2))\n",
    "\n",
    "# Converting list to set\n",
    "\n",
    "set_of_combinations = set(myList)\n",
    "\n",
    "# Printing result \n",
    "\n",
    "print(\"Amount of combinations \" + str(len(set_of_combinations)))     \n",
    "\n",
    "print(set_of_combinations)\n",
    "    "
   ],
   "metadata": {
    "collapsed": false,
    "pycharm": {
     "name": "#%%\n",
     "is_executing": false
    }
   }
  },
  {
   "cell_type": "markdown",
   "source": [
    "### Part 2 \n",
    "\n",
    "Create 2 dictionary comprehensions to solve the following:"
   ],
   "metadata": {
    "collapsed": false,
    "pycharm": {
     "name": "#%% md\n"
    }
   }
  },
  {
   "cell_type": "markdown",
   "source": [
    "##### 2(A) Iterate a list of names and create a dictionary where key is the name and value is the length of the name"
   ],
   "metadata": {
    "collapsed": false
   }
  },
  {
   "cell_type": "code",
   "execution_count": 4,
   "outputs": [
    {
     "name": "stdout",
     "text": [
      "{'Timothy': 7, 'Jose': 4, 'Pernille': 8, 'Patrick': 7, 'Micki': 5, 'Mie': 3, 'Pawelw': 6, 'Tony': 4}\n"
     ],
     "output_type": "stream"
    }
   ],
   "source": [
    "names = ['Timothy', 'Jose', 'Pernille', 'Patrick', 'Micki', 'Mie', 'Pawelw', 'Tony']\n",
    "\n",
    "dict_names_comp = {el:len(el) for el in names}\n",
    "\n",
    "print(dict_names_comp)\n"
   ],
   "metadata": {
    "collapsed": false,
    "pycharm": {
     "name": "#%%\n",
     "is_executing": false
    }
   }
  },
  {
   "cell_type": "markdown",
   "source": [
    "##### Iterate a list of numbers and create a dictionary (key, value) being (number, sqrt of number)"
   ],
   "metadata": {
    "collapsed": false
   }
  },
  {
   "cell_type": "code",
   "execution_count": 5,
   "outputs": [
    {
     "name": "stdout",
     "text": [
      "{10: 3.1622776601683795, 100: 10.0, 1000: 31.622776601683793, 20: 4.47213595499958, 200: 14.142135623730951, 2000: 44.721359549995796}\n"
     ],
     "output_type": "stream"
    }
   ],
   "source": [
    "import math\n",
    "\n",
    "numbers = [10, 100, 1000, 20, 200, 2000]\n",
    "\n",
    "dict_numbers_comp = {el: math.sqrt(el) for el in numbers}\n",
    "\n",
    "print(dict_numbers_comp)\n"
   ],
   "metadata": {
    "collapsed": false,
    "pycharm": {
     "name": "#%%\n",
     "is_executing": false
    }
   }
  },
  {
   "cell_type": "markdown",
   "source": [
    "### Part 3\n",
    "\n",
    "Progammatically using loops create a small program to produce a dictionary with all the 2 dice throw combinations as keys and their likelyhood in percent as values"
   ],
   "metadata": {
    "collapsed": false,
    "pycharm": {
     "name": "#%% md\n"
    }
   }
  },
  {
   "cell_type": "code",
   "execution_count": 17,
   "outputs": [
    {
     "name": "stdout",
     "text": [
      "{(1, 3): 2.7777777777777777, (6, 6): 2.7777777777777777, (5, 6): 2.7777777777777777, (2, 1): 2.7777777777777777, (6, 2): 2.7777777777777777, (1, 6): 2.7777777777777777, (5, 1): 2.7777777777777777, (2, 5): 2.7777777777777777, (1, 2): 2.7777777777777777, (3, 3): 2.7777777777777777, (5, 5): 2.7777777777777777, (4, 4): 2.7777777777777777, (6, 3): 2.7777777777777777, (1, 5): 2.7777777777777777, (3, 6): 2.7777777777777777, (2, 2): 2.7777777777777777, (4, 1): 2.7777777777777777, (1, 1): 2.7777777777777777, (6, 4): 2.7777777777777777, (3, 2): 2.7777777777777777, (2, 6): 2.7777777777777777, (5, 4): 2.7777777777777777, (4, 5): 2.7777777777777777, (5, 2): 2.7777777777777777, (1, 4): 2.7777777777777777, (2, 3): 2.7777777777777777, (4, 2): 2.7777777777777777, (6, 5): 2.7777777777777777, (3, 5): 2.7777777777777777, (5, 3): 2.7777777777777777, (4, 6): 2.7777777777777777, (6, 1): 2.7777777777777777, (3, 1): 2.7777777777777777, (4, 3): 2.7777777777777777, (3, 4): 2.7777777777777777, (2, 4): 2.7777777777777777}\n",
      "Every combination has a percentage of 2.78%\n"
     ],
     "output_type": "stream"
    }
   ],
   "source": [
    "from itertools import product\n",
    "\n",
    "# Getting the combination of the dices\n",
    "\n",
    "myList = list(product(range(1,7), repeat=2))\n",
    "\n",
    "set_of_combinations = set(myList)\n",
    "\n",
    "chances = {el:100/len(set_of_combinations) for el in set_of_combinations}\n",
    "    \n",
    "print(chances)\n",
    "print('Every combination has a percentage of 2.78%')"
   ],
   "metadata": {
    "collapsed": false,
    "pycharm": {
     "name": "#%%\n",
     "is_executing": false
    }
   }
  }
 ],
 "metadata": {
  "kernelspec": {
   "name": "pycharm-e3cb99e1",
   "language": "python",
   "display_name": "PyCharm (Week 1)"
  },
  "language_info": {
   "codemirror_mode": {
    "name": "ipython",
    "version": 2
   },
   "file_extension": ".py",
   "mimetype": "text/x-python",
   "name": "python",
   "nbconvert_exporter": "python",
   "pygments_lexer": "ipython2",
   "version": "2.7.6"
  },
  "pycharm": {
   "stem_cell": {
    "cell_type": "raw",
    "source": [],
    "metadata": {
     "collapsed": false
    }
   }
  }
 },
 "nbformat": 4,
 "nbformat_minor": 0
}