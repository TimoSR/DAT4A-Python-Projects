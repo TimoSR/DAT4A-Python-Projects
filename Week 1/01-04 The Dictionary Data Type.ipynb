{
 "cells": [
  {
   "cell_type": "markdown",
   "metadata": {
    "collapsed": true,
    "pycharm": {
     "name": "#%% md\n"
    }
   },
   "source": [
    "# The Dictionary Type\n",
    "\n",
    "The dictionary data type provides a flexible way to access and organize data.\n",
    "\n",
    "Like a list, a dictionary is a collection of many values. But unlike indexes for lists, indexes for dictionaries can use many different data types, not just integers. Indexes for dictionaries are called keys, and a key with its associated value is called a key-value pair.\n",
    "\n",
    "In code, a dictionary is typed with braces, {}."
   ]
  },
  {
   "cell_type": "code",
   "execution_count": 1,
   "outputs": [
    {
     "data": {
      "text/plain": "{'color': 'greyscale',\n 'size': 289983,\n 'type': 'jpg',\n 'address': 'https://upload.wikimedia.org/wikipedia/commons/7/7b/Moby_Dick_p510_illustration.jpg'}"
     },
     "metadata": {},
     "output_type": "execute_result",
     "execution_count": 1
    }
   ],
   "source": [
    "image = {'color': 'greyscale', 'size': 289983, 'type': 'jpg',\n",
    "         'address': 'https://upload.wikimedia.org/wikipedia/commons/7/7b/Moby_Dick_p510_illustration.jpg'}\n",
    "\n",
    "image\n"
   ],
   "metadata": {
    "collapsed": false,
    "pycharm": {
     "name": "#%%\n",
     "is_executing": false
    }
   }
  },
  {
   "cell_type": "markdown",
   "source": [
    "Dictionaries cannot be sliced like lists as they are an unsorted data destructure"
   ],
   "metadata": {
    "collapsed": false
   }
  },
  {
   "cell_type": "code",
   "execution_count": 14,
   "outputs": [],
   "source": [
    "# Creating my first dictionaries\n",
    "\n",
    "first_dict = {'name':'Timo', 'age':25, 'city':'Søborg'}\n",
    "second_dict = {1:'Timo', 2:25, 3:'Søborg'}"
   ],
   "metadata": {
    "collapsed": false,
    "pycharm": {
     "name": "#%%\n",
     "is_executing": false
    }
   }
  },
  {
   "cell_type": "markdown",
   "source": [
    "#### Accessing Values in a Dictionary"
   ],
   "metadata": {
    "collapsed": false
   }
  },
  {
   "cell_type": "code",
   "execution_count": 26,
   "outputs": [
    {
     "name": "stdout",
     "text": [
      "Name:\tTimo\n",
      "Age:\t25\n",
      "Source:\tAustralia\n",
      "Source modify:\tDenmark\n",
      "{'age': 25, 'city': 'Søborg', 'source': 'Denmark'}\n"
     ],
     "output_type": "stream"
    }
   ],
   "source": [
    "# Accessing dictionaries \n",
    "\n",
    "print(\"Name:\\t\"+str(first_dict['name']))\n",
    "print(\"Age:\\t\"+str(second_dict[2]))\n",
    "\n",
    "# Adding New Key-Value Pairs\n",
    "\n",
    "first_dict['source'] = 'Australia'\n",
    "\n",
    "print('Source:\\t'+first_dict['source'])\n",
    "\n",
    "# Modifying Values in Dict\n",
    "\n",
    "first_dict['source'] = 'Denmark'\n",
    "\n",
    "print('Source modify:\\t'+first_dict['source'])\n",
    "\n",
    "# Removing Key-Value Paris\n",
    "\n",
    "del first_dict['name']\n",
    "\n",
    "print(first_dict)\n"
   ],
   "metadata": {
    "collapsed": false,
    "pycharm": {
     "name": "#%%\n",
     "is_executing": false
    }
   }
  },
  {
   "cell_type": "markdown",
   "source": [
    "#### Methods associated with dictionaries\n",
    "\n",
    "keys(), values() and items()"
   ],
   "metadata": {
    "collapsed": false,
    "pycharm": {
     "name": "#%% md\n"
    }
   }
  },
  {
   "cell_type": "code",
   "execution_count": 27,
   "outputs": [
    {
     "name": "stdout",
     "text": [
      "age\n",
      "city\n",
      "source\n"
     ],
     "output_type": "stream"
    }
   ],
   "source": [
    "# Printing Keys\n",
    "\n",
    "for key in first_dict.keys():\n",
    "    print(key)"
   ],
   "metadata": {
    "collapsed": false,
    "pycharm": {
     "name": "#%%\n",
     "is_executing": false
    }
   }
  },
  {
   "cell_type": "code",
   "execution_count": 29,
   "outputs": [
    {
     "name": "stdout",
     "text": [
      "25\n",
      "Søborg\n",
      "Denmark\n"
     ],
     "output_type": "stream"
    }
   ],
   "source": [
    "# Printing Values\n",
    "\n",
    "for value in first_dict.values():\n",
    "    print(value)"
   ],
   "metadata": {
    "collapsed": false,
    "pycharm": {
     "name": "#%%\n",
     "is_executing": false
    }
   }
  },
  {
   "cell_type": "code",
   "execution_count": 31,
   "outputs": [
    {
     "name": "stdout",
     "text": [
      "age\n",
      "\t -25\n",
      "city\n",
      "\t -Søborg\n",
      "source\n",
      "\t -Denmark\n"
     ],
     "output_type": "stream"
    }
   ],
   "source": [
    "# Printing Items\n",
    "\n",
    "for key, value in first_dict.items():\n",
    "    print(key)\n",
    "    print('\\t -' + str(value))"
   ],
   "metadata": {
    "collapsed": false,
    "pycharm": {
     "name": "#%%\n",
     "is_executing": false
    }
   }
  },
  {
   "cell_type": "markdown",
   "source": [
    "##### Checking Whether a key or Value Exist in a Dictionary\n",
    "\n",
    "in & not in "
   ],
   "metadata": {
    "collapsed": false
   }
  },
  {
   "cell_type": "code",
   "execution_count": 37,
   "outputs": [
    {
     "name": "stdout",
     "text": [
      "False\n",
      "True\n"
     ],
     "output_type": "stream"
    }
   ],
   "source": [
    "print('color' in first_dict.keys())\n",
    "\n",
    "print('color' not in first_dict.keys())"
   ],
   "metadata": {
    "collapsed": false,
    "pycharm": {
     "name": "#%%\n",
     "is_executing": false
    }
   }
  },
  {
   "cell_type": "markdown",
   "source": [
    "#### To make this easier the get() method exists\n",
    "\n",
    "It is tedious to check whether a key exists in a dictionary before accessing that key’s value. Fortunately, dictionaries have a get() method that takes two arguments: the key of the value to retrieve and a fallback value to return if that key does not exist."
   ],
   "metadata": {
    "collapsed": false
   }
  },
  {
   "cell_type": "code",
   "execution_count": 40,
   "outputs": [
    {
     "name": "stdout",
     "text": [
      "Timo\n",
      "unknown\n"
     ],
     "output_type": "stream"
    }
   ],
   "source": [
    "first_dict = {'name':'Timo', 'age':25, 'city':'Søborg'}\n",
    "\n",
    "name_val = first_dict.get('name', 'unknown')\n",
    "\n",
    "country_val = first_dict.get('country', 'unknown')\n",
    "\n",
    "print(name_val)\n",
    "\n",
    "print(country_val)"
   ],
   "metadata": {
    "collapsed": false,
    "pycharm": {
     "name": "#%%\n",
     "is_executing": false
    }
   }
  },
  {
   "cell_type": "markdown",
   "source": [
    "#### The setdefault() Method\n",
    "\n",
    "You will often have to set a value in a dictionary for a certain key only if that key does not already have a value.\n",
    "\n",
    "The setdefault() method offers a way to do this in one line of code. The rst argument passed to the method is the key to check for, and the second argument is the value to set at that key if the key does not exist. If the key does exist, the setdefault() method returns the key’s value."
   ],
   "metadata": {
    "collapsed": false,
    "pycharm": {
     "name": "#%% md\n"
    }
   }
  },
  {
   "cell_type": "code",
   "execution_count": 41,
   "outputs": [
    {
     "name": "stdout",
     "text": [
      "{'\\n': 16, 'C': 2, 'a': 57, 'l': 45, ' ': 182, 'm': 30, 'e': 107, 'I': 12, 's': 52, 'h': 51, '.': 8, 'S': 1, 'o': 62, 'y': 22, 'r': 56, 'g': 24, '—': 3, 'n': 61, 'v': 13, 'i': 68, 'd': 21, 'w': 15, 'p': 25, 'c': 16, 't': 74, 'u': 26, ',': 10, 'b': 9, 'f': 22, 'W': 2, ';': 4, 'z': 2, 'N': 1, 'q': 2, 'k': 4, '’': 1, 'T': 2}\n"
     ],
     "output_type": "stream"
    }
   ],
   "source": [
    "fst_paragraph = '''\n",
    "Call me Ishmael. Some years ago—never mind how long precisely—having\n",
    "little or no money in my purse, and nothing particular to interest me on\n",
    "shore, I thought I would sail about a little and see the watery part of\n",
    "the world. It is a way I have of driving off the spleen and regulating\n",
    "the circulation. Whenever I find myself growing grim about the mouth;\n",
    "whenever it is a damp, drizzly November in my soul; whenever I find\n",
    "myself involuntarily pausing before coffin warehouses, and bringing up\n",
    "the rear of every funeral I meet; and especially whenever my hypos get\n",
    "such an upper hand of me, that it requires a strong moral principle to\n",
    "prevent me from deliberately stepping into the street, and methodically\n",
    "knocking people’s hats off—then, I account it high time to get to\n",
    "sea as soon as I can. This is my substitute for pistol and ball. With\n",
    "a philosophical flourish Cato throws himself upon his sword; I quietly\n",
    "take to the ship. There is nothing surprising in this. If they but knew\n",
    "it, almost all men in their degree, some time or other, cherish very\n",
    "nearly the same feelings towards the ocean with me.'''\n",
    "\n",
    "count = {}\n",
    "\n",
    "for character in fst_paragraph:\n",
    "    count.setdefault(character, 0)\n",
    "    count[character] += 1\n",
    "\n",
    "print(count)"
   ],
   "metadata": {
    "collapsed": false,
    "pycharm": {
     "name": "#%%\n",
     "is_executing": false
    }
   }
  },
  {
   "cell_type": "markdown",
   "source": [
    "### Nesting \n",
    "\n",
    "Sometimes you will want to store a set of dictionaries in a list or a list of items as a value in a dictionary. This is called nesting. You can nest a set of dictionaries inside a list, a list of items inside a dictionary, or even a dictionary inside another dictionary. Nesting is a powerful feature, as the following examples will demonstrate.\n",
    "\n",
    "In general, lists are useful to contain an ordered series of values, and dictionaries are useful for associating keys with values."
   ],
   "metadata": {
    "collapsed": false
   }
  },
  {
   "cell_type": "markdown",
   "source": [
    "#### A list of Dictionaries"
   ],
   "metadata": {
    "collapsed": false,
    "pycharm": {
     "name": "#%% md\n"
    }
   }
  },
  {
   "cell_type": "code",
   "execution_count": 42,
   "outputs": [
    {
     "data": {
      "text/plain": "[{'color': 'greyscale',\n  'size': 289983,\n  'type': 'jpg',\n  'address': 'https://upload.wikimedia.org/wikipedia/commons/7/7b/Moby_Dick_p510_illustration.jpg'},\n {'color': 'greyscale',\n  'size': 492872,\n  'type': 'jpg',\n  'address': 'https://upload.wikimedia.org/wikipedia/commons/f/f7/Queequeg.JPG'},\n {'color': 'greyscale',\n  'size': 497121,\n  'type': 'jpg',\n  'address': 'https://upload.wikimedia.org/wikipedia/commons/8/8b/Moby_Dick_final_chase.jpg'}]"
     },
     "metadata": {},
     "output_type": "execute_result",
     "execution_count": 42
    }
   ],
   "source": [
    "image_0 = {'color': 'greyscale', 'size': 289983, 'type': 'jpg',\n",
    "         'address': 'https://upload.wikimedia.org/wikipedia/commons/7/7b/Moby_Dick_p510_illustration.jpg'}\n",
    "image_1 = {'color': 'greyscale', 'size': 492872, 'type': 'jpg',\n",
    "         'address': 'https://upload.wikimedia.org/wikipedia/commons/f/f7/Queequeg.JPG'}\n",
    "image_2 = {'color': 'greyscale', 'size': 497121, 'type': 'jpg',\n",
    "         'address': 'https://upload.wikimedia.org/wikipedia/commons/8/8b/Moby_Dick_final_chase.jpg'}\n",
    "\n",
    "article_images = [image_0, image_1, image_2]\n",
    "\n",
    "article_images"
   ],
   "metadata": {
    "collapsed": false,
    "pycharm": {
     "name": "#%%\n",
     "is_executing": false
    }
   }
  },
  {
   "cell_type": "markdown",
   "source": [
    "#### A list in a Dictionary\n",
    "\n",
    "Rather than putting a dictionary inside a list, it is sometimes useful to put a list inside a dictionary."
   ],
   "metadata": {
    "collapsed": false
   }
  },
  {
   "cell_type": "code",
   "execution_count": 43,
   "outputs": [
    {
     "data": {
      "text/plain": "497121"
     },
     "metadata": {},
     "output_type": "execute_result",
     "execution_count": 43
    }
   ],
   "source": [
    "images = {'color': 'greyscale', 'size': [289983, 492872, 497121], 'type': 'jpg',\n",
    "         'address': ['https://upload.wikimedia.org/wikipedia/commons/7/7b/Moby_Dick_p510_illustration.jpg', \n",
    "                     'https://upload.wikimedia.org/wikipedia/commons/f/f7/Queequeg.JPG', \n",
    "                     'https://upload.wikimedia.org/wikipedia/commons/8/8b/Moby_Dick_final_chase.jpg']\n",
    "         }\n",
    "\n",
    "images['size'][-1]"
   ],
   "metadata": {
    "collapsed": false,
    "pycharm": {
     "name": "#%%\n",
     "is_executing": false
    }
   }
  },
  {
   "cell_type": "code",
   "execution_count": 44,
   "outputs": [
    {
     "name": "stdout",
     "text": [
      "\n",
      "Color\n",
      "\tgreyscale\n",
      "\n",
      "Size\n",
      "\t * 289983\n",
      "\t * 492872\n",
      "\t * 497121\n",
      "\n",
      "Type\n",
      "\tjpg\n",
      "\n",
      "Address\n",
      "\t * https://upload.wikimedia.org/wikipedia/commons/7/7b/Moby_Dick_p510_illustration.jpg\n",
      "\t * https://upload.wikimedia.org/wikipedia/commons/f/f7/Queequeg.JPG\n",
      "\t * https://upload.wikimedia.org/wikipedia/commons/8/8b/Moby_Dick_final_chase.jpg\n"
     ],
     "output_type": "stream"
    }
   ],
   "source": [
    "for key, value in images.items():\n",
    "    print(\"\\n\" + key.title())\n",
    "    \n",
    "    if type(value) == list:\n",
    "        for element in value: \n",
    "            print(\"\\t * \" + str(element))\n",
    "    else:\n",
    "        print(\"\\t\" + value)"
   ],
   "metadata": {
    "collapsed": false,
    "pycharm": {
     "name": "#%%\n",
     "is_executing": false
    }
   }
  },
  {
   "cell_type": "markdown",
   "source": [
    "#### A Dictionary in a Dictionary\n",
    "\n",
    "You can nest a dictionary inside another dictionary, but your code can get complicated quickly when you do. For example, if you have several users for a website, each with a unique username, you can use the usernames as the keys in a dictionary. You can then store information about each user by using a dictionary as the value associated with their username. In the following listing, we store three pieces of information about each user: their first name, last name, and location. We’ll access this information by looping through the usernames and the dictionary of information associated with each username:\n"
   ],
   "metadata": {
    "collapsed": false
   }
  },
  {
   "cell_type": "code",
   "execution_count": 45,
   "outputs": [],
   "source": [
    "users = {\n",
    "    'aeinstein': {\n",
    "        'first': 'albert',\n",
    "        'last': 'einstein',\n",
    "        'locations': ['princeton', 'copenhagen'],\n",
    "        },\n",
    "    \n",
    "    'mcurie': {\n",
    "           'first': 'marie',\n",
    "           'last': 'curie',\n",
    "           'locations': ['paris', 'athens'],\n",
    "           },\n",
    "}"
   ],
   "metadata": {
    "collapsed": false,
    "pycharm": {
     "name": "#%%\n",
     "is_executing": false
    }
   }
  },
  {
   "cell_type": "code",
   "execution_count": 46,
   "outputs": [
    {
     "name": "stdout",
     "text": [
      "\n",
      "Username: aeinstein\n",
      "\tFull name: Albert Einstein\n",
      "\tLocation: Princeton\n",
      "\tLocation: Copenhagen\n",
      "\n",
      "Username: mcurie\n",
      "\tFull name: Marie Curie\n",
      "\tLocation: Paris\n",
      "\tLocation: Athens\n"
     ],
     "output_type": "stream"
    }
   ],
   "source": [
    "for username, user_info in users.items():\n",
    "    print(\"\\nUsername: \" + username)\n",
    "    full_name = user_info['first'] + \" \" + user_info['last']\n",
    "    locations = user_info['locations']\n",
    "    \n",
    "    print(\"\\tFull name: \" + full_name.title()) \n",
    "    for location in locations:\n",
    "        print(\"\\tLocation: \" + location.title())"
   ],
   "metadata": {
    "collapsed": false,
    "pycharm": {
     "name": "#%%\n",
     "is_executing": false
    }
   }
  },
  {
   "cell_type": "markdown",
   "source": [
    "#### Pretty Printing \n",
    "If you import the pprint module into your programs, you will have access to the pprint() and pformat() functions that will “pretty print” a dictionary’s values. This is helpful when you want a cleaner display of the items in a dictionary than what print() provides.\n"
   ],
   "metadata": {
    "collapsed": false,
    "pycharm": {
     "name": "#%% md\n"
    }
   }
  },
  {
   "cell_type": "code",
   "execution_count": 47,
   "outputs": [
    {
     "name": "stdout",
     "text": [
      "{'aeinstein': {'first': 'albert', 'last': 'einstein', 'locations': ['princeton', 'copenhagen']}, 'mcurie': {'first': 'marie', 'last': 'curie', 'locations': ['paris', 'athens']}}\n"
     ],
     "output_type": "stream"
    }
   ],
   "source": [
    "print(users)"
   ],
   "metadata": {
    "collapsed": false,
    "pycharm": {
     "name": "#%%\n",
     "is_executing": false
    }
   }
  },
  {
   "cell_type": "code",
   "execution_count": 48,
   "outputs": [
    {
     "name": "stdout",
     "text": [
      "{'aeinstein': {'first': 'albert',\n",
      "               'last': 'einstein',\n",
      "               'locations': ['princeton', 'copenhagen']},\n",
      " 'mcurie': {'first': 'marie',\n",
      "            'last': 'curie',\n",
      "            'locations': ['paris', 'athens']}}\n"
     ],
     "output_type": "stream"
    }
   ],
   "source": [
    "import  pprint\n",
    "\n",
    "pprint.pprint(users)"
   ],
   "metadata": {
    "collapsed": false,
    "pycharm": {
     "name": "#%%\n",
     "is_executing": false
    }
   }
  },
  {
   "cell_type": "markdown",
   "source": [
    "#### Dictionary comprehension\n",
    "\n",
    "dict_variable = {key:value for (key,value) in dictonary.items()}"
   ],
   "metadata": {
    "collapsed": false
   }
  },
  {
   "cell_type": "code",
   "execution_count": 50,
   "outputs": [
    {
     "name": "stdout",
     "text": [
      "{'a': 2, 'b': 4, 'c': 6, 'd': 8, 'e': 10}\n"
     ],
     "output_type": "stream"
    }
   ],
   "source": [
    "# transforming a dict\n",
    "dict1 = {'a': 1, 'b': 2, 'c': 3, 'd': 4, 'e': 5}\n",
    "# Double each value in the dictionary\n",
    "double_dict1 = {k:v*2 for (k,v) in dict1.items()}\n",
    "print(double_dict1)\n",
    "\n"
   ],
   "metadata": {
    "collapsed": false,
    "pycharm": {
     "name": "#%%\n",
     "is_executing": false
    }
   }
  },
  {
   "cell_type": "code",
   "execution_count": 49,
   "outputs": [
    {
     "name": "stdout",
     "text": [
      "{1: 1, 2: 4, 3: 9, 4: 16, 5: 25}\n"
     ],
     "output_type": "stream"
    }
   ],
   "source": [
    "# turn a list into a dict\n",
    "list_2_dict = list([1,2,3,4,5])\n",
    "dict_comp = {el:el**2 for el in list_2_dict}\n",
    "print(dict_comp)\n"
   ],
   "metadata": {
    "collapsed": false,
    "pycharm": {
     "name": "#%%\n",
     "is_executing": false
    }
   }
  }
 ],
 "metadata": {
  "kernelspec": {
   "name": "pycharm-e3cb99e1",
   "language": "python",
   "display_name": "PyCharm (Week 1)"
  },
  "language_info": {
   "codemirror_mode": {
    "name": "ipython",
    "version": 2
   },
   "file_extension": ".py",
   "mimetype": "text/x-python",
   "name": "python",
   "nbconvert_exporter": "python",
   "pygments_lexer": "ipython2",
   "version": "2.7.6"
  },
  "pycharm": {
   "stem_cell": {
    "cell_type": "raw",
    "source": [],
    "metadata": {
     "collapsed": false
    }
   }
  }
 },
 "nbformat": 4,
 "nbformat_minor": 0
}