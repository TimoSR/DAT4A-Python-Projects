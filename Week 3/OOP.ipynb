{
 "cells": [
  {
   "cell_type": "markdown",
   "metadata": {
    "collapsed": true,
    "pycharm": {
     "name": "#%% md\n"
    }
   },
   "source": [
    "# OOP in Python"
   ]
  },
  {
   "cell_type": "code",
   "execution_count": 2,
   "outputs": [],
   "source": [
    "# How to define a class\n",
    "\n",
    "class Chapter():\n",
    "    \n",
    "    # __init__ is like a constructor\n",
    "    # self is mandatory as it will call itself\n",
    "    # self will be used for all def\n",
    "    # it is instead this \n",
    "\n",
    "    def __init__(self, number, title, paragraphs):\n",
    "        \"\"\"A chapter consists of multiple paragraphs.\"\"\"\n",
    "        self.number = number\n",
    "        self.title = title\n",
    "        self.paragraphs = []\n",
    "        for paragraph_lines in paragraphs:\n",
    "            new_pragraph = Paragraph(paragraph_lines)\n",
    "            self.paragraphs.append(new_pragraph)\n",
    "\n",
    "    def read(self, paragraph_idx=None):\n",
    "        \"\"\"A paragraph can be read.\"\"\" \n",
    "        if paragraph_idx:\n",
    "            self.paragraphs[paragraph_idx].read()\n",
    "        else:\n",
    "            for paragraph in self.paragraphs:\n",
    "                paragraph.read()"
   ],
   "metadata": {
    "collapsed": false,
    "pycharm": {
     "name": "#%%\n",
     "is_executing": false
    }
   }
  },
  {
   "cell_type": "code",
   "execution_count": 3,
   "outputs": [],
   "source": [
    "\n",
    "class Book():\n",
    "    \"\"\"A simple book model consisting of chapters, which in \n",
    "    turn consist of paragraphs.\"\"\"\n",
    "\n",
    "    def __init__(self, title, author, chapters=[]):\n",
    "        \"\"\"Initialize title, the author, and the chapters.\"\"\"\n",
    "        self.title = title \n",
    "        self.author = author\n",
    "        self.chapters = chapters   \n",
    "        \n",
    "    def __repr__(self):\n",
    "        return 'Book(%r, %r, %r)' % (self.title, self.author, self.chapters)\n",
    "    \n",
    "    def __str__(self):\n",
    "        return '{name} by {by} has {nr_chap} chapters.'.format(\n",
    "            name=self.title, by=self.author, nr_chap=len(self.chapters))\n",
    "    \n",
    "    def read(self, chapter=1):\n",
    "        \"\"\"Simulate reading a chapter, by calling the reading \n",
    "        method of a chapter.\"\"\" \n",
    "        self.chapters[chapter - 1].read()\n",
    "        \n",
    "    def open_book(self, chapter=1) -> Chapter:\n",
    "        \"\"\"Simulate opening a book, which returns a chapter \n",
    "        object.\"\"\" \n",
    "        return self.chapters[chapter - 1]"
   ],
   "metadata": {
    "collapsed": false,
    "pycharm": {
     "name": "#%%\n",
     "is_executing": false
    }
   }
  },
  {
   "cell_type": "code",
   "execution_count": 4,
   "outputs": [],
   "source": [
    "class Paragraph():\n",
    "    \"\"\"A paragraph consists of a list of lines.\"\"\"\n",
    "\n",
    "    def __init__(self, lines):\n",
    "        \"\"\"Initialize the paragraph with its lines of text.\"\"\"\n",
    "        self.lines = lines\n",
    "\n",
    "    def read(self):\n",
    "        \"\"\"Simulate reading a paragraph by printing its contents.\"\"\" \n",
    "        for line in self.lines:\n",
    "            print(line)"
   ],
   "metadata": {
    "collapsed": false,
    "pycharm": {
     "name": "#%%\n",
     "is_executing": false
    }
   }
  },
  {
   "cell_type": "code",
   "execution_count": 5,
   "outputs": [
    {
     "name": "stdout",
     "text": [
      "Author: Nobody\n",
      "Title: The book of silence\n",
      "Length of book: 0 chapters\n"
     ],
     "output_type": "stream"
    }
   ],
   "source": [
    "empty_book = Book('The book of silence', 'Nobody')\n",
    "\n",
    "print('Author:',empty_book.author)\n",
    "print('Title:',empty_book.title)\n",
    "print('Length of book:',len(empty_book.chapters),'chapters')"
   ],
   "metadata": {
    "collapsed": false,
    "pycharm": {
     "name": "#%%\n",
     "is_executing": false
    }
   }
  },
  {
   "cell_type": "code",
   "execution_count": 6,
   "outputs": [
    {
     "traceback": [
      "\u001b[1;31m---------------------------------------------------------------------------\u001b[0m",
      "\u001b[1;31mModuleNotFoundError\u001b[0m                       Traceback (most recent call last)",
      "\u001b[1;32m<ipython-input-6-000d2ae469b6>\u001b[0m in \u001b[0;36m<module>\u001b[1;34m\u001b[0m\n\u001b[1;32m----> 1\u001b[1;33m \u001b[1;32mimport\u001b[0m \u001b[0mwebget\u001b[0m\u001b[1;33m\u001b[0m\u001b[1;33m\u001b[0m\u001b[0m\n\u001b[0m\u001b[0;32m      2\u001b[0m \u001b[1;33m\u001b[0m\u001b[0m\n\u001b[0;32m      3\u001b[0m \u001b[1;33m\u001b[0m\u001b[0m\n\u001b[0;32m      4\u001b[0m \u001b[0mbones_in_london_url\u001b[0m \u001b[1;33m=\u001b[0m \u001b[1;34m'http://www.gutenberg.org/cache/epub/27525/pg27525.txt'\u001b[0m\u001b[1;33m\u001b[0m\u001b[1;33m\u001b[0m\u001b[0m\n\u001b[0;32m      5\u001b[0m \u001b[1;31m# download the book\u001b[0m\u001b[1;33m\u001b[0m\u001b[1;33m\u001b[0m\u001b[1;33m\u001b[0m\u001b[0m\n",
      "\u001b[1;31mModuleNotFoundError\u001b[0m: No module named 'webget'"
     ],
     "ename": "ModuleNotFoundError",
     "evalue": "No module named 'webget'",
     "output_type": "error"
    }
   ],
   "source": [
    "import webget\n",
    "\n",
    "\n",
    "bones_in_london_url = 'http://www.gutenberg.org/cache/epub/27525/pg27525.txt'\n",
    "# download the book\n",
    "webget.download(bones_in_london_url,'bones_in_london.txt')\n",
    "# open it and read all lines in the text file\n",
    "with open('./bones_in_london.txt') as f:\n",
    "    bones_book = f.readlines()\n",
    "\n",
    "\n",
    "def get_text(txt, lower_bound, upper_bound):\n",
    "    \"\"\"A utility function which allow us to read slices of lines\"\"\"\n",
    "    chapter_content = []\n",
    "    paragraph = []\n",
    "    for line in txt[lower_bound:upper_bound]:\n",
    "        if line == '\\n':\n",
    "            chapter_content.append(paragraph)\n",
    "            paragraph = []\n",
    "        else:\n",
    "            paragraph.append(line.strip())\n",
    "\n",
    "    return chapter_content\n"
   ],
   "metadata": {
    "collapsed": false,
    "pycharm": {
     "name": "#%%\n",
     "is_executing": false
    }
   }
  }
 ],
 "metadata": {
  "kernelspec": {
   "name": "pycharm-6d0b8d21",
   "language": "python",
   "display_name": "PyCharm (Week 3)"
  },
  "language_info": {
   "codemirror_mode": {
    "name": "ipython",
    "version": 2
   },
   "file_extension": ".py",
   "mimetype": "text/x-python",
   "name": "python",
   "nbconvert_exporter": "python",
   "pygments_lexer": "ipython2",
   "version": "2.7.6"
  },
  "pycharm": {
   "stem_cell": {
    "cell_type": "raw",
    "source": [],
    "metadata": {
     "collapsed": false
    }
   }
  }
 },
 "nbformat": 4,
 "nbformat_minor": 0
}