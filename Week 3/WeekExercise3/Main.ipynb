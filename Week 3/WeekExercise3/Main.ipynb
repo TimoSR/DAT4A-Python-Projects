{
 "cells": [
  {
   "cell_type": "code",
   "execution_count": 27,
   "outputs": [],
   "source": [
    "# 1. Create 3 classes: Student, DataSheet and Course\n",
    "\n",
    "from WeekExercise3.Course import Course\n",
    "from WeekExercise3.DataSheet import DataSheet\n",
    "from WeekExercise3.Student import Student\n",
    "\n",
    "# 7. Create a function that can generate n number of students with random: name, gender, courses (from a fixed list of \n",
    "# course names), grades, img_url\n",
    "\n",
    "import random as rnd\n",
    "import csv\n",
    "\n",
    "def create_students(number_of_students):\n",
    "    first_names = ['Timothy', 'Josephine', 'Patrick']\n",
    "    last_names = ['Rasmussen', 'Bue', 'Stoltzner']\n",
    "    courses = [\"Danish\", \"English\", \"German\"]\n",
    "    grades = [-3, 0, 2, 4, 7, 10, 12]\n",
    "    teachers = [\"TB\", \"JB\", \"OL\"]\n",
    "    students = []\n",
    "    \n",
    "    for i in range(number_of_students):\n",
    "        student_courses = []\n",
    "        for index, course in enumerate(courses):\n",
    "            student_courses.append(Course(course, \"A1\", teachers[index], 15, rnd.choice(grades)))\n",
    "\n",
    "        students.append(Student(\"{} {}\".format(first_names[rnd.randint(0, len(first_names)-1)], \n",
    "                last_names[rnd.randint(0, len(last_names)-1)]), rnd.choice([\"male\", \"female\"]), \n",
    "                DataSheet(student_courses), \"URL\"))\n",
    "    \n",
    "    students[0].data_sheet.courses = students[0].data_sheet.courses[:1]\n",
    "\n",
    "    with open('./students.csv', 'w') as File:\n",
    "        writer = csv.writer(File, quoting=csv.QUOTE_NONNUMERIC)\n",
    "\n",
    "        csv_columns = ['stud_name', 'gender', 'course_name','teacher', 'ects', 'classroom', 'grade', 'img_url']\n",
    "\n",
    "        writer.writerow(csv_columns)\n",
    "        for student in students:\n",
    "            for course in student.data_sheet.courses:\n",
    "                writer.writerow([student.name, student.gender, course.name, course.teacher, course.ECTS,\n",
    "                    course.classroom, course.grade, student.image_url])\n",
    "    "
   ],
   "metadata": {
    "collapsed": false,
    "pycharm": {
     "name": "#%%\n",
     "is_executing": false
    }
   }
  },
  {
   "cell_type": "code",
   "execution_count": 28,
   "outputs": [
    {
     "name": "stdout",
     "text": [
      "Created\n",
      "Created\n",
      "Created\n"
     ],
     "output_type": "stream"
    }
   ],
   "source": [
    "create_students(3)\n"
   ],
   "metadata": {
    "collapsed": false,
    "pycharm": {
     "name": "#%%\n",
     "is_executing": false
    }
   }
  }
 ],
 "metadata": {
  "kernelspec": {
   "name": "pycharm-6d0b8d21",
   "language": "python",
   "display_name": "PyCharm (Week 3)"
  },
  "language_info": {
   "codemirror_mode": {
    "name": "ipython",
    "version": 2
   },
   "file_extension": ".py",
   "mimetype": "text/x-python",
   "name": "python",
   "nbconvert_exporter": "python",
   "pygments_lexer": "ipython2",
   "version": "2.7.6"
  },
  "pycharm": {
   "stem_cell": {
    "cell_type": "raw",
    "source": [],
    "metadata": {
     "collapsed": false
    }
   }
  }
 },
 "nbformat": 4,
 "nbformat_minor": 0
}