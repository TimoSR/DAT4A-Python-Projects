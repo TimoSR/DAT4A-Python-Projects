{
 "cells": [
  {
   "cell_type": "code",
   "execution_count": 3,
   "outputs": [],
   "source": [
    "# 1. Create 3 classes: Student, DataSheet and Course\n",
    "\n",
    "%reload_ext autoreload\n",
    "%autoreload 2\n",
    "\n",
    "from WeekExercise3.Course import Course\n",
    "from WeekExercise3.DataSheet import DataSheet\n",
    "from WeekExercise3.Student import Student\n",
    "import random as rand\n",
    "import csv\n",
    "\n",
    "# 7. Create a function that can generate n number of students with random: name, gender, courses (from a fixed list of \n",
    "# course names), grades, img_url\n",
    "\n",
    "def create_students(number_of_students):\n",
    "    first_names = ['Timothy', 'Josephine', 'Patrick', 'Jens', 'Paul', 'Bertram', 'Sofus', 'Emil']\n",
    "    last_names = ['Rasmussen', 'Bue', 'Stoltzner', 'Olsen', 'Jensen', 'Poulsen', 'Sten', 'Fredriksen']\n",
    "    courses = [\"Danish\", \"English\", \"German\"]\n",
    "    grades = [-3, 0, 2, 4, 7, 10, 12]\n",
    "    ects = [5, 10]\n",
    "    teachers = [\"TB\", \"JB\", \"OL\"]\n",
    "    _students = []\n",
    "    \n",
    "    #Creating random combinations with the given data\n",
    "    \n",
    "    for i in range(number_of_students):\n",
    "        student_courses = []\n",
    "        for index, course in enumerate(courses):\n",
    "            student_courses.append(Course(course, \"A1\", teachers[index], rand.choice(ects), rand.choice(grades)))\n",
    "\n",
    "        _students.append(Student(\"{} {}\".format(first_names[rand.randint(0, len(first_names)-1)], \n",
    "                last_names[rand.randint(0, len(last_names)-1)]), rand.choice([\"Male\", \"Female\"]), \n",
    "                DataSheet(student_courses), \"URL\"))\n",
    "\n",
    "    with open('./students.csv', 'w') as file:   \n",
    "        writer = csv.writer(file, quoting=csv.QUOTE_NONNUMERIC)\n",
    "\n",
    "        csv_columns = ['student_name', 'gender', 'course_name','teacher', 'ects', 'classroom', 'grade', 'img_url']\n",
    "\n",
    "        writer.writerow(csv_columns)\n",
    "        for _student in _students:\n",
    "            for course in _student.data_sheet.courses:\n",
    "                writer.writerow([_student.name, _student.gender, course.name, course.teacher, course.ECTS,\n",
    "                    course.classroom, course.grade, _student.image_url])\n",
    "    "
   ],
   "metadata": {
    "collapsed": false,
    "pycharm": {
     "name": "#%%\n",
     "is_executing": false
    }
   }
  },
  {
   "cell_type": "code",
   "execution_count": 4,
   "outputs": [
    {
     "name": "stdout",
     "text": [
      "Created student Timothy Fredriksen\n",
      "Created student Jens Rasmussen\n",
      "Created student Emil Jensen\n"
     ],
     "output_type": "stream"
    }
   ],
   "source": [
    "#Creating 3 Students\n",
    "\n",
    "create_students(3)\n"
   ],
   "metadata": {
    "collapsed": false,
    "pycharm": {
     "name": "#%%\n",
     "is_executing": false
    }
   }
  },
  {
   "cell_type": "code",
   "execution_count": 21,
   "outputs": [
    {
     "name": "stdout",
     "text": [
      "[['student_name', 'gender', 'course_name', 'teacher', 'ects', 'classroom', 'grade', 'img_url'], [], ['Timothy Fredriksen', 'Female', 'Danish', 'TB', '10', 'A1', '10', 'URL'], [], ['Timothy Fredriksen', 'Female', 'English', 'JB', '5', 'A1', '0', 'URL'], [], ['Timothy Fredriksen', 'Female', 'German', 'OL', '5', 'A1', '7', 'URL'], [], ['Jens Rasmussen', 'Female', 'Danish', 'TB', '5', 'A1', '10', 'URL'], [], ['Jens Rasmussen', 'Female', 'English', 'JB', '10', 'A1', '-3', 'URL'], [], ['Jens Rasmussen', 'Female', 'German', 'OL', '10', 'A1', '7', 'URL'], [], ['Emil Jensen', 'Male', 'Danish', 'TB', '10', 'A1', '4', 'URL'], [], ['Emil Jensen', 'Male', 'English', 'JB', '5', 'A1', '7', 'URL'], [], ['Emil Jensen', 'Male', 'German', 'OL', '5', 'A1', '7', 'URL'], []]\n"
     ],
     "output_type": "stream"
    }
   ],
   "source": [
    "# 1. Read student data into a list of Students from a csv file:\n",
    "# 1(a). loop through the list and print each student with name, img_url and avg_grade.\n",
    "# 1(b). sort the list by avg_grade\n",
    "# 1(c). create a bar chart with student_name on x and avg_grade on y-axis\n",
    "\n",
    "students = []\n",
    "\n",
    "with open('./students.csv', 'r') as file:\n",
    "    reader = csv.reader(file)\n",
    "    students = list(reader)\n",
    "        \n",
    "print (students)\n",
    "\n",
    "\n"
   ],
   "metadata": {
    "collapsed": false,
    "pycharm": {
     "name": "#%%\n",
     "is_executing": false
    }
   }
  }
 ],
 "metadata": {
  "kernelspec": {
   "name": "pycharm-6d0b8d21",
   "language": "python",
   "display_name": "PyCharm (Week 3)"
  },
  "language_info": {
   "codemirror_mode": {
    "name": "ipython",
    "version": 2
   },
   "file_extension": ".py",
   "mimetype": "text/x-python",
   "name": "python",
   "nbconvert_exporter": "python",
   "pygments_lexer": "ipython2",
   "version": "2.7.6"
  },
  "pycharm": {
   "stem_cell": {
    "cell_type": "raw",
    "source": [],
    "metadata": {
     "collapsed": false
    }
   }
  }
 },
 "nbformat": 4,
 "nbformat_minor": 0
}