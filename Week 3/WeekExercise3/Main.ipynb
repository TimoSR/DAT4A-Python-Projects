{
 "cells": [
  {
   "cell_type": "code",
   "execution_count": 5,
   "outputs": [],
   "source": [
    "# 1. Create 3 classes: Student, DataSheet and Course\n",
    "\n",
    "%reload_ext autoreload\n",
    "%autoreload 2\n",
    "\n",
    "from WeekExercise3.Course import Course\n",
    "from WeekExercise3.DataSheet import DataSheet\n",
    "from WeekExercise3.Student import Student\n",
    "import random as rand\n",
    "import csv\n",
    "\n",
    "# 7. Create a function that can generate n number of students with random: name, gender, courses (from a fixed list of \n",
    "# course names), grades, img_url\n",
    "\n",
    "def create_students(number_of_students):\n",
    "    first_names = ['Timothy', 'Josephine', 'Patrick', 'Jens', 'Paul', 'Bertram', 'Sofus', 'Emil']\n",
    "    last_names = ['Rasmussen', 'Bue', 'Stoltzner', 'Olsen', 'Jensen', 'Poulsen', 'Sten', 'Fredriksen']\n",
    "    courses = [\"Danish\", \"English\", \"German\"]\n",
    "    grades = [-3, 0, 2, 4, 7, 10, 12]\n",
    "    ects = [5, 10]\n",
    "    teachers = [\"TB\", \"JB\", \"OL\"]\n",
    "    _students = []\n",
    "    \n",
    "    #Creating random combinations with the given data\n",
    "    \n",
    "    for i in range(number_of_students):\n",
    "        student_courses = []\n",
    "        for index, course in enumerate(courses):\n",
    "            student_courses.append(Course(course, \"A1\", teachers[index], rand.choice(ects), rand.choice(grades)))\n",
    "\n",
    "        _students.append(Student(\"{} {}\".format(first_names[rand.randint(0, len(first_names)-1)], \n",
    "                last_names[rand.randint(0, len(last_names)-1)]), rand.choice([\"Male\", \"Female\"]), \n",
    "                DataSheet(student_courses), \"URL\"))\n",
    "\n",
    "    #Creating a CSV file without empty rows, to make it easier to sort later  \n",
    "    with open('./students.csv', 'w', newline='') as file:   \n",
    "        writer = csv.writer(file, quoting=csv.QUOTE_NONNUMERIC)\n",
    "\n",
    "        csv_columns = ['student_name', 'gender', 'course_name','teacher', 'ects', 'classroom', 'grade', 'img_url']\n",
    "\n",
    "        writer.writerow(csv_columns)\n",
    "        for _student in _students:\n",
    "            for course in _student.data_sheet.courses:\n",
    "                writer.writerow([_student.name, _student.gender, course.name, course.teacher, course.ECTS,\n",
    "                    course.classroom, course.grade, _student.image_url])\n",
    "    "
   ],
   "metadata": {
    "collapsed": false,
    "pycharm": {
     "name": "#%%\n",
     "is_executing": false
    }
   }
  },
  {
   "cell_type": "code",
   "execution_count": 6,
   "outputs": [
    {
     "name": "stdout",
     "text": [
      "Created student Patrick Olsen\n",
      "Created student Sofus Jensen\n",
      "Created student Bertram Stoltzner\n"
     ],
     "output_type": "stream"
    }
   ],
   "source": [
    "#Creating 3 Students\n",
    "\n",
    "create_students(3)\n"
   ],
   "metadata": {
    "collapsed": false,
    "pycharm": {
     "name": "#%%\n",
     "is_executing": false
    }
   }
  },
  {
   "cell_type": "code",
   "execution_count": 56,
   "outputs": [
    {
     "name": "stdout",
     "text": [
      "Created student Patrick Olsen\n",
      "[<WeekExercise3.Course.Course object at 0x0000017EFFC54208>]\n",
      "[<WeekExercise3.Course.Course object at 0x0000017EFFC54208>, <WeekExercise3.Course.Course object at 0x0000017EFFC54D48>]\n",
      "[<WeekExercise3.Course.Course object at 0x0000017EFFC54208>, <WeekExercise3.Course.Course object at 0x0000017EFFC54D48>, <WeekExercise3.Course.Course object at 0x0000017EFFC54B88>]\n",
      "Created student Sofus Jensen\n",
      "[<WeekExercise3.Course.Course object at 0x0000017EFFC54C88>]\n",
      "[<WeekExercise3.Course.Course object at 0x0000017EFFC54C88>, <WeekExercise3.Course.Course object at 0x0000017EFFB80788>]\n",
      "[<WeekExercise3.Course.Course object at 0x0000017EFFC54C88>, <WeekExercise3.Course.Course object at 0x0000017EFFB80788>, <WeekExercise3.Course.Course object at 0x0000017EFFB8D088>]\n",
      "Created student Bertram Stoltzner\n",
      "[<WeekExercise3.Course.Course object at 0x0000017EFFA2B508>]\n",
      "[<WeekExercise3.Course.Course object at 0x0000017EFFA2B508>, <WeekExercise3.Course.Course object at 0x0000017EFFB9A788>]\n",
      "[<WeekExercise3.Course.Course object at 0x0000017EFFA2B508>, <WeekExercise3.Course.Course object at 0x0000017EFFB9A788>, <WeekExercise3.Course.Course object at 0x0000017EFFD2FC48>]\n"
     ],
     "output_type": "stream"
    }
   ],
   "source": [
    "\n",
    "# 1(a). loop through the list and print each student with name, img_url and avg_grade.\n",
    "# 1(b). sort the list by avg_grade\n",
    "# 1(c). create a bar chart with student_name on x and avg_grade on y-axis\n",
    "\n",
    "students = {}\n",
    "\n",
    "# 1. Read student data into a list of Students from a csv file:\n",
    "with open('./students.csv', 'r') as file:\n",
    "    reader = csv.reader(file)\n",
    "    #Taking the rows 1 to n, to remove the data description in the dataset\n",
    "    for row in list(reader)[1:]:\n",
    "        #If name is not a key in the dictionary, add the key.\n",
    "        if row[0] not in students:\n",
    "            students[row[0]] = Student(name=row[0], \n",
    "                                       gender=row[1], \n",
    "                                       data_sheet=DataSheet([Course(course_name=row[2], \n",
    "                                                                    classroom=row[5],\n",
    "                                                                    teacher=row[3],\n",
    "                                                                    ECTS=row[4],\n",
    "                                                                    grade=row[6])]),\n",
    "                                       image_url=row[7])\n",
    "        #To add all courses to the dictionary name keys matching students courses will be added, if already registered  \n",
    "        else:\n",
    "            students[row[0]].data_sheet.courses.append(Course(course_name=row[2],\n",
    "                                                              classroom=row[5], \n",
    "                                                              teacher=row[3],\n",
    "                                                              ECTS=row[4],\n",
    "                                                              grade=row[6]))\n",
    "        \n",
    "        print(students[row[0]].data_sheet.courses)    \n",
    "    \n",
    "    \n",
    "    #for idx in range(8):\n",
    "        #for student in students:\n",
    "          ##  print (student[idx])\n",
    "            #print(idx)\n",
    "        \n",
    "        \n",
    "        \n",
    "        \n",
    "\n",
    "\n"
   ],
   "metadata": {
    "collapsed": false,
    "pycharm": {
     "name": "#%%\n",
     "is_executing": false
    }
   }
  }
 ],
 "metadata": {
  "kernelspec": {
   "name": "pycharm-6d0b8d21",
   "language": "python",
   "display_name": "PyCharm (Week 3)"
  },
  "language_info": {
   "codemirror_mode": {
    "name": "ipython",
    "version": 2
   },
   "file_extension": ".py",
   "mimetype": "text/x-python",
   "name": "python",
   "nbconvert_exporter": "python",
   "pygments_lexer": "ipython2",
   "version": "2.7.6"
  },
  "pycharm": {
   "stem_cell": {
    "cell_type": "raw",
    "source": [],
    "metadata": {
     "collapsed": false
    }
   }
  }
 },
 "nbformat": 4,
 "nbformat_minor": 0
}