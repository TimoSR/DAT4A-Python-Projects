{
 "cells": [
  {
   "cell_type": "code",
   "execution_count": 6,
   "metadata": {
    "collapsed": true,
    "pycharm": {
     "is_executing": false
    }
   },
   "outputs": [
    {
     "name": "stdout",
     "text": [
      "<WeekExercise3.Course.Course object at 0x0000015EEBDBB9C8>\n"
     ],
     "output_type": "stream"
    }
   ],
   "source": [
    "from WeekExercise3.Course import Course\n",
    "from WeekExercise3.DataSheet import DataSheet\n",
    "from WeekExercise3.Student import Student\n",
    "\n",
    "courses = []\n",
    "\n",
    "courses.append(Course('Danish', 1, 'TD', 10, True, 10))\n",
    "courses.append(Course('English', 2, 'TD', 10, True, 7))\n",
    "\n",
    "data_sheet = DataSheet(courses)\n",
    "\n",
    "student1: Student = Student('Tim', 'Male', data_sheet)\n",
    "\n",
    "print(student1.data_sheet.courses[0])\n"
   ]
  }
 ],
 "metadata": {
  "kernelspec": {
   "name": "pycharm-6d0b8d21",
   "language": "python",
   "display_name": "PyCharm (Week 3)"
  },
  "language_info": {
   "codemirror_mode": {
    "name": "ipython",
    "version": 2
   },
   "file_extension": ".py",
   "mimetype": "text/x-python",
   "name": "python",
   "nbconvert_exporter": "python",
   "pygments_lexer": "ipython2",
   "version": "2.7.6"
  },
  "pycharm": {
   "stem_cell": {
    "cell_type": "raw",
    "source": [],
    "metadata": {
     "collapsed": false
    }
   }
  }
 },
 "nbformat": 4,
 "nbformat_minor": 0
}