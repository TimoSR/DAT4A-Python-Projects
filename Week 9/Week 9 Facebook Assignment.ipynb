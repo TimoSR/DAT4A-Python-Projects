{
 "cells": [
  {
   "cell_type": "markdown",
   "metadata": {
    "collapsed": true,
    "pycharm": {
     "name": "#%% md\n"
    }
   },
   "source": [
    "# Week 9 Facebook Assignment\n",
    "\n",
    "This assignment requires you to work with Facebook network data, data preprocessing and networkx. Note that this is real data from real people!"
   ]
  },
  {
   "cell_type": "code",
   "source": [
    "import matplotlib.pyplot as plt\n",
    "import wget\n",
    "import pygraphviz\n",
    "from networkx.drawing.nx_agraph import graphviz_layout, write_dot\n",
    "import networkx as nwx\n",
    "import gzip as gz\n",
    "\n",
    "# Function to extracts gz file\n",
    "# https://stackoverflow.com/a/52333182\n",
    "def gunzip(source_filepath, dest_filepath, block_size=65536):\n",
    "    with gz.open(source_filepath, 'rb') as s_file, \\\n",
    "            open(dest_filepath, 'wb') as d_file:\n",
    "        while True:\n",
    "            block = s_file.read(block_size)\n",
    "            if not block:\n",
    "                break\n",
    "            else:\n",
    "                d_file.write(block)\n",
    "        d_file.write(block)"
   ],
   "metadata": {
    "collapsed": false,
    "pycharm": {
     "name": "#%%\n"
    }
   },
   "execution_count": 11,
   "outputs": []
  },
  {
   "cell_type": "markdown",
   "source": [
    "PART 1: Preparing data\n",
    "The dataset you will be working with is available here: https://snap.stanford.edu/data/egonets-Facebook.html\n",
    "\n",
    "You're first job is to\n",
    "\n",
    "1. Download the data\n",
    "2. Unpack the data\n",
    "3 .Import the data as an undirected graph in networkx\n",
    "\n",
    "This should all be done from your notebook in Python. This is an important step for you to automate data preprocessing.\n",
    "Note: this could take a while, so if you feel adventurous you can use the multiprocessing library to speed things up.\n",
    "\n",
    "Hand-in:\n",
    "* The code for downloading, unpacking and loading the dataset"
   ],
   "metadata": {
    "collapsed": false,
    "pycharm": {
     "name": "#%% md\n"
    }
   }
  },
  {
   "cell_type": "code",
   "execution_count": 12,
   "outputs": [],
   "source": [
    "#Importing data as an undirected graph (networkkx = nwx)\n",
    "#URL = 'https://snap.stanford.edu/data/facebook_combined.txt.gz'\n",
    "#wget.download(URL)\n",
    "#gunzip('facebook_combined.txt.gz', './facebook_combined.txt')\n",
    "\n",
    "graph = nwx.read_edgelist('./facebook_combined.txt')"
   ],
   "metadata": {
    "collapsed": false,
    "pycharm": {
     "name": "#%%\n"
    }
   }
  },
  {
   "cell_type": "markdown",
   "source": [
    "PART 2: Analyse the data\n",
    "Now, let's take a look at the network you imported.\n",
    "\n",
    "By node degree we mean the number of edges to and from a node. This is different in an undirected network, where in-degree == out-degree, and a directed network where in-degree != out-degree.\n",
    "By graph degree we mean the number of edges in the entire network.\n",
    "\n",
    "Hand-in code that display:\n",
    "* The number of nodes in the network\n",
    "* The number of edges in the network\n",
    "* The average degree in the network\n",
    "* A visualisation of the network inside your notebook"
   ],
   "metadata": {
    "collapsed": false,
    "pycharm": {
     "name": "#%% md\n"
    }
   }
  },
  {
   "cell_type": "code",
   "source": [
    "# How to use NetworkX v2\n",
    "# https://stackoverflow.com/a/16567881\n",
    "\n",
    "# Trying to analyse the graph\n",
    "def analyse_graph():\n",
    "    #print(nwx.info(graph))\n",
    "    degrees = dict(graph.degree)\n",
    "    nwx.draw(graph, nodelist=degrees.keys(), pos=graphviz_layout(graph),\n",
    "            node_size=[v * 1.2 for v in degrees.values()], width=.05, cmap=plt.cm.GnBu,\n",
    "            with_labels=True, font_size=4, node_color=range(len(graph)))\n",
    "    plt.show()  # output saved in visualization.png\n",
    "\n",
    "# Due to neato errors, I haven't been able to generate a picture of the network.\n",
    "\n",
    "# analyse_graph()\n",
    "\n",
    "# RESULT\n",
    "\n",
    "# Name\n",
    "# Type: Graph\n",
    "# Number of nodes: 4039 (Number of profiles)\n",
    "# Number Of edges: 88234 (Total Connections)\n",
    "# Average degree: 43.6910 (Average of the connections per profile)"
   ],
   "metadata": {
    "collapsed": false,
    "pycharm": {
     "name": "#%%\n"
    }
   },
   "execution_count": 13,
   "outputs": []
  },
  {
   "cell_type": "markdown",
   "source": [
    "PART 3: Find the most popular people\n",
    "We're naturally interested in who has the most friends, so we want to extract top 10. That is, the 10 most connected people.\n",
    "Hand-in:\n",
    "* Code that extracts and reports the 10 people with the most connections in the network\n"
   ],
   "metadata": {
    "collapsed": false
   }
  },
  {
   "cell_type": "code",
   "execution_count": 14,
   "outputs": [
    {
     "name": "stdout",
     "output_type": "stream",
     "text": [
      "[('107', 1045), ('1684', 792), ('1912', 755), ('3437', 547), ('0', 347), ('2543', 294), ('2347', 291), ('1888', 254), ('1800', 245), ('1663', 235)]\n"
     ]
    }
   ],
   "source": [
    "#Sort graph nodes according to their degree\n",
    "#https://stackoverflow.com/a/48382895\n",
    "\n",
    "def find_most_popular_people():\n",
    "    return sorted(graph.degree, key=lambda x: x[1], reverse=True)[:10]\n",
    "\n",
    "print(find_most_popular_people())"
   ],
   "metadata": {
    "collapsed": false,
    "pycharm": {
     "name": "#%%\n"
    }
   }
  }
 ],
 "metadata": {
  "kernelspec": {
   "name": "pycharm-8cb66e1",
   "language": "python",
   "display_name": "PyCharm (Week 9)"
  },
  "language_info": {
   "codemirror_mode": {
    "name": "ipython",
    "version": 2
   },
   "file_extension": ".py",
   "mimetype": "text/x-python",
   "name": "python",
   "nbconvert_exporter": "python",
   "pygments_lexer": "ipython2",
   "version": "2.7.6"
  }
 },
 "nbformat": 4,
 "nbformat_minor": 0
}