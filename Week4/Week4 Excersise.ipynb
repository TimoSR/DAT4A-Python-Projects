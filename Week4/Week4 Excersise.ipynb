{
 "cells": [
  {
   "cell_type": "markdown",
   "metadata": {
    "collapsed": true,
    "pycharm": {
     "name": "#%% md\n"
    }
   },
   "source": [
    "# Week 4 Exercise Numpy"
   ]
  },
  {
   "cell_type": "markdown",
   "source": [
    "#### Exercise 1"
   ],
   "metadata": {
    "collapsed": false,
    "pycharm": {
     "name": "#%% md\n"
    }
   }
  },
  {
   "cell_type": "code",
   "execution_count": 63,
   "outputs": [
    {
     "name": "stdout",
     "text": [
      "[51937 75113 78802 61623 51727 39537 43908 53604 55205 64967  3872]\n",
      "{1: 'Indre By', 2: 'Østerbro', 3: 'Nørrebro', 4: 'Vesterbro/Kgs. Enghave', 5: 'Valby', 6: 'Vanløse', 7: 'Brønshøj-Husum', 8: 'Bispebjerg', 9: 'Amager Øst', 10: 'Amager Vest', 99: 'Udenfor'}\n"
     ],
     "output_type": "stream"
    },
    {
     "data": {
      "text/plain": "<Figure size 432x288 with 1 Axes>",
      "image/png": "[encoded data removed]"
     },
     "metadata": {
      "needs_background": "light"
     },
     "output_type": "display_data"
    }
   ],
   "source": [
    "import numpy\n",
    "from numpy import genfromtxt\n",
    "import matplotlib.pyplot as plt\n",
    " \n",
    " \n",
    "'''\n",
    " \n",
    "xs = numpy.linspace(0, 2 * numpy.pi, 50)\n",
    "ys = numpy.sin(xs)\n",
    "#print(xs,'\\n',ys, '\\n',len(ys))\n",
    "plt.plot(xs, ys)\n",
    "\n",
    "'''\n",
    "\n",
    "filename = 'befkbhalderstatkode.csv'\n",
    "\n",
    "my_data = genfromtxt(filename, delimiter=',', dtype=numpy.uint, skip_header=1)\n",
    "\n",
    "dd = my_data\n",
    "\n",
    "neighb = {1: 'Indre By', 2: 'Østerbro', 3: 'Nørrebro', 4: 'Vesterbro/Kgs. Enghave', \n",
    "       5: 'Valby', 6: 'Vanløse', 7: 'Brønshøj-Husum', 8: 'Bispebjerg', 9: 'Amager Øst', \n",
    "       10: 'Amager Vest', 99: 'Udenfor'}\n",
    "\n",
    "#Find out how many people lived in each of the 11 areas in 2015\n",
    "\n",
    "def number_of_people_per_neighbourhood(n, mask):\n",
    "    all_people_in_given_n = dd[mask & (dd[:,1] == n)]\n",
    "    sum_of_people = all_people_in_given_n[:,4].sum() # index 4 is no of 'PERSONER'\n",
    "    return sum_of_people\n",
    "\n",
    "amount_of_people = numpy.array([number_of_people_per_neighbourhood(key, (dd[:,0] == 2015)) for key in neighb.keys()])\n",
    "\n",
    "neighbourhood = numpy.array({key: value for key, value in neighb.items()})\n",
    "\n",
    "#Make a bar plot to show the size of each city area from the smallest to the largest\n",
    "\n",
    "#Getting neighbourhood_names \n",
    "\n",
    "get_neighbourhood_names = numpy.array([value for key, value in neighb.items()])\n",
    "\n",
    "#for key, value in neighbourhood\n",
    "\n",
    "#https://matplotlib.org/tutorials/introductory/pyplot.html\n",
    "\n",
    "plt.plot(amount_of_people)\n",
    "\n",
    "plt.bar(get_neighbourhood_names, amount_of_people )\n",
    "\n",
    "\n",
    "\n",
    "names = ['group_a', 'group_b', 'group_c']\n",
    "\n",
    "\n",
    "    \n",
    "\n",
    "\n"
   ],
   "metadata": {
    "collapsed": false,
    "pycharm": {
     "name": "#%%\n",
     "is_executing": false
    }
   }
  }
 ],
 "metadata": {
  "kernelspec": {
   "display_name": "Python 3",
   "language": "python",
   "name": "python3"
  },
  "language_info": {
   "codemirror_mode": {
    "name": "ipython",
    "version": 2
   },
   "file_extension": ".py",
   "mimetype": "text/x-python",
   "name": "python",
   "nbconvert_exporter": "python",
   "pygments_lexer": "ipython2",
   "version": "2.7.6"
  },
  "pycharm": {
   "stem_cell": {
    "cell_type": "raw",
    "source": [],
    "metadata": {
     "collapsed": false
    }
   }
  }
 },
 "nbformat": 4,
 "nbformat_minor": 0
}